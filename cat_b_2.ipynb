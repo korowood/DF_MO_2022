{
 "cells": [
  {
   "cell_type": "markdown",
   "metadata": {
    "id": "qb_ajqWXuguV"
   },
   "source": [
    "## Загрузим нужные библиотеки"
   ]
  },
  {
   "cell_type": "code",
   "execution_count": 2,
   "metadata": {
    "id": "MTgpe_1quUDs"
   },
   "outputs": [],
   "source": [
    "import pandas as pd\n",
    "import seaborn as sns\n",
    "import matplotlib.pyplot as plt\n",
    "from sklearn.model_selection import train_test_split\n",
    "\n",
    "import numpy as np\n",
    "from sklearn.metrics import recall_score, precision_score\n",
    "from catboost import CatBoostClassifier, cv, Pool\n",
    "\n",
    "from seed_ import seed_everything\n",
    "from dicision_stats_features import create_decision\n",
    "\n",
    "from usr_t_p import create_place_and_score\n",
    "from tfidf_features import create_tfidf_features\n",
    "\n",
    "from sklearn.impute import SimpleImputer\n",
    "\n",
    "%matplotlib inline"
   ]
  },
  {
   "cell_type": "code",
   "execution_count": 3,
   "metadata": {
    "pycharm": {
     "name": "#%%\n"
    }
   },
   "outputs": [],
   "source": [
    "%load_ext autoreload\n",
    "%autoreload 2"
   ]
  },
  {
   "cell_type": "markdown",
   "metadata": {
    "pycharm": {
     "name": "#%% md\n"
    }
   },
   "source": [
    "### Fix seed"
   ]
  },
  {
   "cell_type": "code",
   "execution_count": 4,
   "metadata": {
    "pycharm": {
     "name": "#%%\n"
    }
   },
   "outputs": [],
   "source": [
    "seed_everything()"
   ]
  },
  {
   "cell_type": "code",
   "execution_count": 4,
   "metadata": {
    "pycharm": {
     "name": "#%%\n"
    }
   },
   "outputs": [],
   "source": []
  },
  {
   "cell_type": "code",
   "execution_count": 5,
   "metadata": {
    "id": "o9N4JbcWudk2"
   },
   "outputs": [],
   "source": [
    "df_train = pd.read_csv(\"train_dataset_train.csv\")\n",
    "df_user = pd.read_csv(\"user_decision.csv\")"
   ]
  },
  {
   "cell_type": "markdown",
   "metadata": {
    "id": "7uxtw2uHQIoe"
   },
   "source": [
    "### Добавим новых значений"
   ]
  },
  {
   "cell_type": "code",
   "execution_count": 6,
   "metadata": {},
   "outputs": [
    {
     "data": {
      "text/plain": "       user_id  period  decision_id\n0        10625       1          409\n2        10775       4          420\n3        10236       2          284\n4        10130       3           72\n5        10273       2          140\n...        ...     ...          ...\n60220    10528       1           88\n60222    10832       3          315\n60224    10189       1           33\n60226    10424       2          140\n60227    10050       3          405\n\n[42447 rows x 3 columns]",
      "text/html": "<div>\n<style scoped>\n    .dataframe tbody tr th:only-of-type {\n        vertical-align: middle;\n    }\n\n    .dataframe tbody tr th {\n        vertical-align: top;\n    }\n\n    .dataframe thead th {\n        text-align: right;\n    }\n</style>\n<table border=\"1\" class=\"dataframe\">\n  <thead>\n    <tr style=\"text-align: right;\">\n      <th></th>\n      <th>user_id</th>\n      <th>period</th>\n      <th>decision_id</th>\n    </tr>\n  </thead>\n  <tbody>\n    <tr>\n      <th>0</th>\n      <td>10625</td>\n      <td>1</td>\n      <td>409</td>\n    </tr>\n    <tr>\n      <th>2</th>\n      <td>10775</td>\n      <td>4</td>\n      <td>420</td>\n    </tr>\n    <tr>\n      <th>3</th>\n      <td>10236</td>\n      <td>2</td>\n      <td>284</td>\n    </tr>\n    <tr>\n      <th>4</th>\n      <td>10130</td>\n      <td>3</td>\n      <td>72</td>\n    </tr>\n    <tr>\n      <th>5</th>\n      <td>10273</td>\n      <td>2</td>\n      <td>140</td>\n    </tr>\n    <tr>\n      <th>...</th>\n      <td>...</td>\n      <td>...</td>\n      <td>...</td>\n    </tr>\n    <tr>\n      <th>60220</th>\n      <td>10528</td>\n      <td>1</td>\n      <td>88</td>\n    </tr>\n    <tr>\n      <th>60222</th>\n      <td>10832</td>\n      <td>3</td>\n      <td>315</td>\n    </tr>\n    <tr>\n      <th>60224</th>\n      <td>10189</td>\n      <td>1</td>\n      <td>33</td>\n    </tr>\n    <tr>\n      <th>60226</th>\n      <td>10424</td>\n      <td>2</td>\n      <td>140</td>\n    </tr>\n    <tr>\n      <th>60227</th>\n      <td>10050</td>\n      <td>3</td>\n      <td>405</td>\n    </tr>\n  </tbody>\n</table>\n<p>42447 rows × 3 columns</p>\n</div>"
     },
     "execution_count": 6,
     "metadata": {},
     "output_type": "execute_result"
    }
   ],
   "source": [
    "list_id = df_train[\"id\"].unique().tolist()\n",
    "\n",
    "df_user_train = df_user[df_user[\"user_id\"].isin(list_id)]\n",
    "df_user_train"
   ]
  },
  {
   "cell_type": "code",
   "execution_count": 7,
   "metadata": {
    "pycharm": {
     "name": "#%%\n"
    }
   },
   "outputs": [],
   "source": [
    "new_datas = create_decision(df_user_train)"
   ]
  },
  {
   "cell_type": "code",
   "execution_count": 8,
   "metadata": {},
   "outputs": [],
   "source": [
    "train = df_train.copy()\n",
    "\n",
    "for data in new_datas:\n",
    "    train = train.merge(data, how=\"left\", left_on=\"id\", right_on=\"user_id\").drop(\"user_id\", axis=1)\n"
   ]
  },
  {
   "cell_type": "code",
   "execution_count": 9,
   "metadata": {
    "pycharm": {
     "name": "#%%\n"
    }
   },
   "outputs": [
    {
     "data": {
      "text/plain": "(680, 33)"
     },
     "execution_count": 9,
     "metadata": {},
     "output_type": "execute_result"
    }
   ],
   "source": [
    "train.shape"
   ]
  },
  {
   "cell_type": "markdown",
   "metadata": {
    "pycharm": {
     "name": "#%% md\n"
    }
   },
   "source": [
    "### W2V"
   ]
  },
  {
   "cell_type": "code",
   "execution_count": 10,
   "metadata": {
    "pycharm": {
     "name": "#%%\n"
    }
   },
   "outputs": [],
   "source": [
    "# datas = create_w2v_features()"
   ]
  },
  {
   "cell_type": "code",
   "execution_count": 11,
   "metadata": {
    "pycharm": {
     "name": "#%%\n"
    }
   },
   "outputs": [],
   "source": [
    "# per1, per2, per3, per4 = datas[\"period_1\"], datas[\"period_2\"], datas[\"period_3\"], datas[\"period_4\"]"
   ]
  },
  {
   "cell_type": "code",
   "execution_count": 12,
   "metadata": {
    "pycharm": {
     "name": "#%%\n"
    }
   },
   "outputs": [],
   "source": [
    "# train_w_vec = train.merge(per1, how=\"left\", left_on=\"id\", right_on=\"user_id\").drop(\"user_id\", axis=1)\n",
    "# train_w_vec = train_w_vec.merge(per2, how=\"left\", left_on=\"id\", right_on=\"user_id\").drop(\"user_id\", axis=1)\n",
    "# train_w_vec = train_w_vec.merge(per3, how=\"left\", left_on=\"id\", right_on=\"user_id\").drop(\"user_id\", axis=1)\n",
    "# train_w_vec = train_w_vec.merge(per4, how=\"left\", left_on=\"id\", right_on=\"user_id\").drop(\"user_id\", axis=1)"
   ]
  },
  {
   "cell_type": "code",
   "execution_count": 13,
   "metadata": {
    "pycharm": {
     "name": "#%%\n"
    }
   },
   "outputs": [],
   "source": [
    "# train_w_vec"
   ]
  },
  {
   "cell_type": "markdown",
   "metadata": {
    "pycharm": {
     "name": "#%% md\n"
    }
   },
   "source": [
    "### tfidf"
   ]
  },
  {
   "cell_type": "code",
   "execution_count": 14,
   "metadata": {
    "pycharm": {
     "name": "#%%\n"
    }
   },
   "outputs": [],
   "source": [
    "tfidf_features = create_tfidf_features()\n",
    "# a, b, c, d  = create_tfidf_features()"
   ]
  },
  {
   "cell_type": "code",
   "execution_count": 15,
   "metadata": {
    "pycharm": {
     "name": "#%%\n"
    }
   },
   "outputs": [],
   "source": [
    "# tmp = a.drop(\"period\", axis=1).merge(b.drop(\"period\", axis=1), how='inner', left_on=\"user_id\", right_on='user_id')\n",
    "# tmp = tmp.merge(c.drop(\"period\", axis=1), how='inner', left_on=\"user_id\", right_on='user_id')\n",
    "# tfidf_features = tmp.merge(d.drop(\"period\", axis=1), how='inner', left_on=\"user_id\", right_on='user_id')\n",
    "# tfidf_features"
   ]
  },
  {
   "cell_type": "code",
   "execution_count": 16,
   "metadata": {
    "pycharm": {
     "name": "#%%\n"
    }
   },
   "outputs": [],
   "source": [
    "train_w_vec = train.merge(tfidf_features.reset_index(), how=\"left\", left_on=\"id\", right_on=\"user_id\").drop(\"user_id\", axis=1)"
   ]
  },
  {
   "cell_type": "code",
   "execution_count": 17,
   "metadata": {
    "pycharm": {
     "name": "#%%\n"
    }
   },
   "outputs": [
    {
     "data": {
      "text/plain": "        id  Analytical thinking  Systemic thinking  Adaptability  Focus  \\\n0    10884                  4.0                4.0           4.0    4.0   \n1    10106                  5.0                4.0           5.0    5.0   \n2    10438                  6.0                5.0           5.0    5.0   \n3    10130                  5.0                4.0           5.0    5.0   \n4    10667                  4.0                5.0           5.0    5.0   \n..     ...                  ...                ...           ...    ...   \n675  10563                  5.0                4.0           5.0    4.0   \n676  10386                  5.0                4.0           5.0    5.0   \n677  10675                  5.0                4.0           5.0    4.0   \n678  10366                  4.0                4.0           4.0    4.0   \n679  10340                  4.0                4.0           4.0    4.0   \n\n     cnt_1  cnt_2  cnt_3  cnt_4  max_1  ...    vec_90    vec_91    vec_92  \\\n0      7.0   14.0   28.0   10.0  386.0  ...  0.000000  0.000000  0.000000   \n1     21.0   21.0   12.0    8.0  333.0  ...  0.000000  0.084850  0.084142   \n2     62.0   45.0   63.0   38.0  424.0  ...  0.034689  0.000000  0.000000   \n3     26.0   28.0   34.0   66.0  410.0  ...  0.000000  0.000000  0.000000   \n4     58.0   70.0  194.0   35.0  412.0  ...  0.017048  0.017736  0.000000   \n..     ...    ...    ...    ...    ...  ...       ...       ...       ...   \n675   10.0    2.0   14.0    4.0  422.0  ...  0.000000  0.000000  0.000000   \n676    1.0   14.0   24.0    1.0  114.0  ...  0.000000  0.000000  0.000000   \n677    4.0   17.0   23.0   12.0  434.0  ...  0.000000  0.000000  0.000000   \n678   10.0   44.0   45.0   38.0  426.0  ...  0.045128  0.000000  0.000000   \n679    NaN    NaN    1.0    2.0    NaN  ...  0.000000  0.000000  0.000000   \n\n       vec_93    vec_94    vec_95    vec_96    vec_97    vec_98    vec_99  \n0    0.000000  0.000000  0.000000  0.000000  0.057215  0.000000  0.000000  \n1    0.089202  0.000000  0.000000  0.000000  0.000000  0.000000  0.080402  \n2    0.000000  0.000000  0.000000  0.000000  0.000000  0.000000  0.000000  \n3    0.000000  0.047178  0.046609  0.049347  0.050397  0.036481  0.047719  \n4    0.018645  0.000000  0.000000  0.000000  0.000000  0.000000  0.036145  \n..        ...       ...       ...       ...       ...       ...       ...  \n675  0.000000  0.000000  0.066079  0.069961  0.000000  0.000000  0.000000  \n676  0.000000  0.056372  0.053363  0.056498  0.057700  0.000000  0.000000  \n677  0.000000  0.000000  0.000000  0.000000  0.000000  0.000000  0.000000  \n678  0.000000  0.000000  0.000000  0.000000  0.000000  0.000000  0.000000  \n679  0.000000  0.000000  0.000000  0.000000  0.000000  0.000000  0.000000  \n\n[680 rows x 453 columns]",
      "text/html": "<div>\n<style scoped>\n    .dataframe tbody tr th:only-of-type {\n        vertical-align: middle;\n    }\n\n    .dataframe tbody tr th {\n        vertical-align: top;\n    }\n\n    .dataframe thead th {\n        text-align: right;\n    }\n</style>\n<table border=\"1\" class=\"dataframe\">\n  <thead>\n    <tr style=\"text-align: right;\">\n      <th></th>\n      <th>id</th>\n      <th>Analytical thinking</th>\n      <th>Systemic thinking</th>\n      <th>Adaptability</th>\n      <th>Focus</th>\n      <th>cnt_1</th>\n      <th>cnt_2</th>\n      <th>cnt_3</th>\n      <th>cnt_4</th>\n      <th>max_1</th>\n      <th>...</th>\n      <th>vec_90</th>\n      <th>vec_91</th>\n      <th>vec_92</th>\n      <th>vec_93</th>\n      <th>vec_94</th>\n      <th>vec_95</th>\n      <th>vec_96</th>\n      <th>vec_97</th>\n      <th>vec_98</th>\n      <th>vec_99</th>\n    </tr>\n  </thead>\n  <tbody>\n    <tr>\n      <th>0</th>\n      <td>10884</td>\n      <td>4.0</td>\n      <td>4.0</td>\n      <td>4.0</td>\n      <td>4.0</td>\n      <td>7.0</td>\n      <td>14.0</td>\n      <td>28.0</td>\n      <td>10.0</td>\n      <td>386.0</td>\n      <td>...</td>\n      <td>0.000000</td>\n      <td>0.000000</td>\n      <td>0.000000</td>\n      <td>0.000000</td>\n      <td>0.000000</td>\n      <td>0.000000</td>\n      <td>0.000000</td>\n      <td>0.057215</td>\n      <td>0.000000</td>\n      <td>0.000000</td>\n    </tr>\n    <tr>\n      <th>1</th>\n      <td>10106</td>\n      <td>5.0</td>\n      <td>4.0</td>\n      <td>5.0</td>\n      <td>5.0</td>\n      <td>21.0</td>\n      <td>21.0</td>\n      <td>12.0</td>\n      <td>8.0</td>\n      <td>333.0</td>\n      <td>...</td>\n      <td>0.000000</td>\n      <td>0.084850</td>\n      <td>0.084142</td>\n      <td>0.089202</td>\n      <td>0.000000</td>\n      <td>0.000000</td>\n      <td>0.000000</td>\n      <td>0.000000</td>\n      <td>0.000000</td>\n      <td>0.080402</td>\n    </tr>\n    <tr>\n      <th>2</th>\n      <td>10438</td>\n      <td>6.0</td>\n      <td>5.0</td>\n      <td>5.0</td>\n      <td>5.0</td>\n      <td>62.0</td>\n      <td>45.0</td>\n      <td>63.0</td>\n      <td>38.0</td>\n      <td>424.0</td>\n      <td>...</td>\n      <td>0.034689</td>\n      <td>0.000000</td>\n      <td>0.000000</td>\n      <td>0.000000</td>\n      <td>0.000000</td>\n      <td>0.000000</td>\n      <td>0.000000</td>\n      <td>0.000000</td>\n      <td>0.000000</td>\n      <td>0.000000</td>\n    </tr>\n    <tr>\n      <th>3</th>\n      <td>10130</td>\n      <td>5.0</td>\n      <td>4.0</td>\n      <td>5.0</td>\n      <td>5.0</td>\n      <td>26.0</td>\n      <td>28.0</td>\n      <td>34.0</td>\n      <td>66.0</td>\n      <td>410.0</td>\n      <td>...</td>\n      <td>0.000000</td>\n      <td>0.000000</td>\n      <td>0.000000</td>\n      <td>0.000000</td>\n      <td>0.047178</td>\n      <td>0.046609</td>\n      <td>0.049347</td>\n      <td>0.050397</td>\n      <td>0.036481</td>\n      <td>0.047719</td>\n    </tr>\n    <tr>\n      <th>4</th>\n      <td>10667</td>\n      <td>4.0</td>\n      <td>5.0</td>\n      <td>5.0</td>\n      <td>5.0</td>\n      <td>58.0</td>\n      <td>70.0</td>\n      <td>194.0</td>\n      <td>35.0</td>\n      <td>412.0</td>\n      <td>...</td>\n      <td>0.017048</td>\n      <td>0.017736</td>\n      <td>0.000000</td>\n      <td>0.018645</td>\n      <td>0.000000</td>\n      <td>0.000000</td>\n      <td>0.000000</td>\n      <td>0.000000</td>\n      <td>0.000000</td>\n      <td>0.036145</td>\n    </tr>\n    <tr>\n      <th>...</th>\n      <td>...</td>\n      <td>...</td>\n      <td>...</td>\n      <td>...</td>\n      <td>...</td>\n      <td>...</td>\n      <td>...</td>\n      <td>...</td>\n      <td>...</td>\n      <td>...</td>\n      <td>...</td>\n      <td>...</td>\n      <td>...</td>\n      <td>...</td>\n      <td>...</td>\n      <td>...</td>\n      <td>...</td>\n      <td>...</td>\n      <td>...</td>\n      <td>...</td>\n      <td>...</td>\n    </tr>\n    <tr>\n      <th>675</th>\n      <td>10563</td>\n      <td>5.0</td>\n      <td>4.0</td>\n      <td>5.0</td>\n      <td>4.0</td>\n      <td>10.0</td>\n      <td>2.0</td>\n      <td>14.0</td>\n      <td>4.0</td>\n      <td>422.0</td>\n      <td>...</td>\n      <td>0.000000</td>\n      <td>0.000000</td>\n      <td>0.000000</td>\n      <td>0.000000</td>\n      <td>0.000000</td>\n      <td>0.066079</td>\n      <td>0.069961</td>\n      <td>0.000000</td>\n      <td>0.000000</td>\n      <td>0.000000</td>\n    </tr>\n    <tr>\n      <th>676</th>\n      <td>10386</td>\n      <td>5.0</td>\n      <td>4.0</td>\n      <td>5.0</td>\n      <td>5.0</td>\n      <td>1.0</td>\n      <td>14.0</td>\n      <td>24.0</td>\n      <td>1.0</td>\n      <td>114.0</td>\n      <td>...</td>\n      <td>0.000000</td>\n      <td>0.000000</td>\n      <td>0.000000</td>\n      <td>0.000000</td>\n      <td>0.056372</td>\n      <td>0.053363</td>\n      <td>0.056498</td>\n      <td>0.057700</td>\n      <td>0.000000</td>\n      <td>0.000000</td>\n    </tr>\n    <tr>\n      <th>677</th>\n      <td>10675</td>\n      <td>5.0</td>\n      <td>4.0</td>\n      <td>5.0</td>\n      <td>4.0</td>\n      <td>4.0</td>\n      <td>17.0</td>\n      <td>23.0</td>\n      <td>12.0</td>\n      <td>434.0</td>\n      <td>...</td>\n      <td>0.000000</td>\n      <td>0.000000</td>\n      <td>0.000000</td>\n      <td>0.000000</td>\n      <td>0.000000</td>\n      <td>0.000000</td>\n      <td>0.000000</td>\n      <td>0.000000</td>\n      <td>0.000000</td>\n      <td>0.000000</td>\n    </tr>\n    <tr>\n      <th>678</th>\n      <td>10366</td>\n      <td>4.0</td>\n      <td>4.0</td>\n      <td>4.0</td>\n      <td>4.0</td>\n      <td>10.0</td>\n      <td>44.0</td>\n      <td>45.0</td>\n      <td>38.0</td>\n      <td>426.0</td>\n      <td>...</td>\n      <td>0.045128</td>\n      <td>0.000000</td>\n      <td>0.000000</td>\n      <td>0.000000</td>\n      <td>0.000000</td>\n      <td>0.000000</td>\n      <td>0.000000</td>\n      <td>0.000000</td>\n      <td>0.000000</td>\n      <td>0.000000</td>\n    </tr>\n    <tr>\n      <th>679</th>\n      <td>10340</td>\n      <td>4.0</td>\n      <td>4.0</td>\n      <td>4.0</td>\n      <td>4.0</td>\n      <td>NaN</td>\n      <td>NaN</td>\n      <td>1.0</td>\n      <td>2.0</td>\n      <td>NaN</td>\n      <td>...</td>\n      <td>0.000000</td>\n      <td>0.000000</td>\n      <td>0.000000</td>\n      <td>0.000000</td>\n      <td>0.000000</td>\n      <td>0.000000</td>\n      <td>0.000000</td>\n      <td>0.000000</td>\n      <td>0.000000</td>\n      <td>0.000000</td>\n    </tr>\n  </tbody>\n</table>\n<p>680 rows × 453 columns</p>\n</div>"
     },
     "execution_count": 17,
     "metadata": {},
     "output_type": "execute_result"
    }
   ],
   "source": [
    "train_w_vec"
   ]
  },
  {
   "cell_type": "markdown",
   "metadata": {
    "pycharm": {
     "name": "#%% md\n"
    }
   },
   "source": [
    "### User points"
   ]
  },
  {
   "cell_type": "code",
   "execution_count": 18,
   "metadata": {
    "pycharm": {
     "name": "#%%\n"
    }
   },
   "outputs": [
    {
     "name": "stderr",
     "output_type": "stream",
     "text": [
      "/Users/19708737/Documents/цифровой_прорыв/MO_2022_2/usr_t_p.py:15: PerformanceWarning: dropping on a non-lexsorted multi-index without a level parameter may impact performance.\n",
      "  score_per_period = pd.DataFrame(data=b.drop(\"user_id\", axis=1).values,\n",
      "/Users/19708737/Documents/цифровой_прорыв/MO_2022_2/usr_t_p.py:24: PerformanceWarning: dropping on a non-lexsorted multi-index without a level parameter may impact performance.\n",
      "  place_per_period = pd.DataFrame(data=b.drop(\"user_id\", axis=1).values,\n"
     ]
    }
   ],
   "source": [
    "place_score = create_place_and_score()"
   ]
  },
  {
   "cell_type": "code",
   "execution_count": 19,
   "metadata": {
    "pycharm": {
     "name": "#%%\n"
    }
   },
   "outputs": [],
   "source": [
    "train_vec_scores = train_w_vec.merge(place_score, how=\"left\", left_on=\"id\", right_on=\"user_id\")"
   ]
  },
  {
   "cell_type": "markdown",
   "metadata": {
    "pycharm": {
     "name": "#%% md\n"
    }
   },
   "source": [
    "### Replace NaN"
   ]
  },
  {
   "cell_type": "code",
   "execution_count": 20,
   "metadata": {
    "pycharm": {
     "name": "#%%\n"
    }
   },
   "outputs": [
    {
     "data": {
      "text/plain": "        id  Analytical thinking  Systemic thinking  Adaptability  Focus  \\\n0    10884                  4.0                4.0           4.0    4.0   \n1    10106                  5.0                4.0           5.0    5.0   \n2    10438                  6.0                5.0           5.0    5.0   \n3    10130                  5.0                4.0           5.0    5.0   \n4    10667                  4.0                5.0           5.0    5.0   \n..     ...                  ...                ...           ...    ...   \n675  10563                  5.0                4.0           5.0    4.0   \n676  10386                  5.0                4.0           5.0    5.0   \n677  10675                  5.0                4.0           5.0    4.0   \n678  10366                  4.0                4.0           4.0    4.0   \n679  10340                  4.0                4.0           4.0    4.0   \n\n     cnt_1  cnt_2  cnt_3  cnt_4  max_1  ...  5_per_2_score  5_per_3_score  \\\n0      7.0   14.0   28.0   10.0  386.0  ...             16             -8   \n1     21.0   21.0   12.0    8.0  333.0  ...             16             19   \n2     62.0   45.0   63.0   38.0  424.0  ...             16             41   \n3     26.0   28.0   34.0   66.0  410.0  ...             16             -7   \n4     58.0   70.0  194.0   35.0  412.0  ...             16             39   \n..     ...    ...    ...    ...    ...  ...            ...            ...   \n675   10.0    2.0   14.0    4.0  422.0  ...             16             -7   \n676    1.0   14.0   24.0    1.0  114.0  ...             16              3   \n677    4.0   17.0   23.0   12.0  434.0  ...             16              4   \n678   10.0   44.0   45.0   38.0  426.0  ...             16             17   \n679    NaN    NaN    1.0    2.0    NaN  ...             16              1   \n\n     5_per_4_score  6_per_0_score  6_per_1_score  6_per_2_score  \\\n0              158             67             26             28   \n1              158             87             35             29   \n2              158             55             30             41   \n3              158             77             26             29   \n4              158             55              9             42   \n..             ...            ...            ...            ...   \n675            158             59             24             24   \n676            158             92             27             15   \n677            158             67             23             21   \n678            158             77             29             29   \n679            158            106             23             20   \n\n     6_per_3_score  6_per_4_score  game_id  team_id  \n0               25              4      202     1440  \n1               36              4      211     1536  \n2               49              4      242     1742  \n3               22              4      184     1272  \n4               50              4      193     1382  \n..             ...            ...      ...      ...  \n675             27              4      184     1274  \n676             32              4      210     1526  \n677             24              4      235     1670  \n678             38              4      248     1808  \n679             31              4      215     1570  \n\n[680 rows x 516 columns]",
      "text/html": "<div>\n<style scoped>\n    .dataframe tbody tr th:only-of-type {\n        vertical-align: middle;\n    }\n\n    .dataframe tbody tr th {\n        vertical-align: top;\n    }\n\n    .dataframe thead th {\n        text-align: right;\n    }\n</style>\n<table border=\"1\" class=\"dataframe\">\n  <thead>\n    <tr style=\"text-align: right;\">\n      <th></th>\n      <th>id</th>\n      <th>Analytical thinking</th>\n      <th>Systemic thinking</th>\n      <th>Adaptability</th>\n      <th>Focus</th>\n      <th>cnt_1</th>\n      <th>cnt_2</th>\n      <th>cnt_3</th>\n      <th>cnt_4</th>\n      <th>max_1</th>\n      <th>...</th>\n      <th>5_per_2_score</th>\n      <th>5_per_3_score</th>\n      <th>5_per_4_score</th>\n      <th>6_per_0_score</th>\n      <th>6_per_1_score</th>\n      <th>6_per_2_score</th>\n      <th>6_per_3_score</th>\n      <th>6_per_4_score</th>\n      <th>game_id</th>\n      <th>team_id</th>\n    </tr>\n  </thead>\n  <tbody>\n    <tr>\n      <th>0</th>\n      <td>10884</td>\n      <td>4.0</td>\n      <td>4.0</td>\n      <td>4.0</td>\n      <td>4.0</td>\n      <td>7.0</td>\n      <td>14.0</td>\n      <td>28.0</td>\n      <td>10.0</td>\n      <td>386.0</td>\n      <td>...</td>\n      <td>16</td>\n      <td>-8</td>\n      <td>158</td>\n      <td>67</td>\n      <td>26</td>\n      <td>28</td>\n      <td>25</td>\n      <td>4</td>\n      <td>202</td>\n      <td>1440</td>\n    </tr>\n    <tr>\n      <th>1</th>\n      <td>10106</td>\n      <td>5.0</td>\n      <td>4.0</td>\n      <td>5.0</td>\n      <td>5.0</td>\n      <td>21.0</td>\n      <td>21.0</td>\n      <td>12.0</td>\n      <td>8.0</td>\n      <td>333.0</td>\n      <td>...</td>\n      <td>16</td>\n      <td>19</td>\n      <td>158</td>\n      <td>87</td>\n      <td>35</td>\n      <td>29</td>\n      <td>36</td>\n      <td>4</td>\n      <td>211</td>\n      <td>1536</td>\n    </tr>\n    <tr>\n      <th>2</th>\n      <td>10438</td>\n      <td>6.0</td>\n      <td>5.0</td>\n      <td>5.0</td>\n      <td>5.0</td>\n      <td>62.0</td>\n      <td>45.0</td>\n      <td>63.0</td>\n      <td>38.0</td>\n      <td>424.0</td>\n      <td>...</td>\n      <td>16</td>\n      <td>41</td>\n      <td>158</td>\n      <td>55</td>\n      <td>30</td>\n      <td>41</td>\n      <td>49</td>\n      <td>4</td>\n      <td>242</td>\n      <td>1742</td>\n    </tr>\n    <tr>\n      <th>3</th>\n      <td>10130</td>\n      <td>5.0</td>\n      <td>4.0</td>\n      <td>5.0</td>\n      <td>5.0</td>\n      <td>26.0</td>\n      <td>28.0</td>\n      <td>34.0</td>\n      <td>66.0</td>\n      <td>410.0</td>\n      <td>...</td>\n      <td>16</td>\n      <td>-7</td>\n      <td>158</td>\n      <td>77</td>\n      <td>26</td>\n      <td>29</td>\n      <td>22</td>\n      <td>4</td>\n      <td>184</td>\n      <td>1272</td>\n    </tr>\n    <tr>\n      <th>4</th>\n      <td>10667</td>\n      <td>4.0</td>\n      <td>5.0</td>\n      <td>5.0</td>\n      <td>5.0</td>\n      <td>58.0</td>\n      <td>70.0</td>\n      <td>194.0</td>\n      <td>35.0</td>\n      <td>412.0</td>\n      <td>...</td>\n      <td>16</td>\n      <td>39</td>\n      <td>158</td>\n      <td>55</td>\n      <td>9</td>\n      <td>42</td>\n      <td>50</td>\n      <td>4</td>\n      <td>193</td>\n      <td>1382</td>\n    </tr>\n    <tr>\n      <th>...</th>\n      <td>...</td>\n      <td>...</td>\n      <td>...</td>\n      <td>...</td>\n      <td>...</td>\n      <td>...</td>\n      <td>...</td>\n      <td>...</td>\n      <td>...</td>\n      <td>...</td>\n      <td>...</td>\n      <td>...</td>\n      <td>...</td>\n      <td>...</td>\n      <td>...</td>\n      <td>...</td>\n      <td>...</td>\n      <td>...</td>\n      <td>...</td>\n      <td>...</td>\n      <td>...</td>\n    </tr>\n    <tr>\n      <th>675</th>\n      <td>10563</td>\n      <td>5.0</td>\n      <td>4.0</td>\n      <td>5.0</td>\n      <td>4.0</td>\n      <td>10.0</td>\n      <td>2.0</td>\n      <td>14.0</td>\n      <td>4.0</td>\n      <td>422.0</td>\n      <td>...</td>\n      <td>16</td>\n      <td>-7</td>\n      <td>158</td>\n      <td>59</td>\n      <td>24</td>\n      <td>24</td>\n      <td>27</td>\n      <td>4</td>\n      <td>184</td>\n      <td>1274</td>\n    </tr>\n    <tr>\n      <th>676</th>\n      <td>10386</td>\n      <td>5.0</td>\n      <td>4.0</td>\n      <td>5.0</td>\n      <td>5.0</td>\n      <td>1.0</td>\n      <td>14.0</td>\n      <td>24.0</td>\n      <td>1.0</td>\n      <td>114.0</td>\n      <td>...</td>\n      <td>16</td>\n      <td>3</td>\n      <td>158</td>\n      <td>92</td>\n      <td>27</td>\n      <td>15</td>\n      <td>32</td>\n      <td>4</td>\n      <td>210</td>\n      <td>1526</td>\n    </tr>\n    <tr>\n      <th>677</th>\n      <td>10675</td>\n      <td>5.0</td>\n      <td>4.0</td>\n      <td>5.0</td>\n      <td>4.0</td>\n      <td>4.0</td>\n      <td>17.0</td>\n      <td>23.0</td>\n      <td>12.0</td>\n      <td>434.0</td>\n      <td>...</td>\n      <td>16</td>\n      <td>4</td>\n      <td>158</td>\n      <td>67</td>\n      <td>23</td>\n      <td>21</td>\n      <td>24</td>\n      <td>4</td>\n      <td>235</td>\n      <td>1670</td>\n    </tr>\n    <tr>\n      <th>678</th>\n      <td>10366</td>\n      <td>4.0</td>\n      <td>4.0</td>\n      <td>4.0</td>\n      <td>4.0</td>\n      <td>10.0</td>\n      <td>44.0</td>\n      <td>45.0</td>\n      <td>38.0</td>\n      <td>426.0</td>\n      <td>...</td>\n      <td>16</td>\n      <td>17</td>\n      <td>158</td>\n      <td>77</td>\n      <td>29</td>\n      <td>29</td>\n      <td>38</td>\n      <td>4</td>\n      <td>248</td>\n      <td>1808</td>\n    </tr>\n    <tr>\n      <th>679</th>\n      <td>10340</td>\n      <td>4.0</td>\n      <td>4.0</td>\n      <td>4.0</td>\n      <td>4.0</td>\n      <td>NaN</td>\n      <td>NaN</td>\n      <td>1.0</td>\n      <td>2.0</td>\n      <td>NaN</td>\n      <td>...</td>\n      <td>16</td>\n      <td>1</td>\n      <td>158</td>\n      <td>106</td>\n      <td>23</td>\n      <td>20</td>\n      <td>31</td>\n      <td>4</td>\n      <td>215</td>\n      <td>1570</td>\n    </tr>\n  </tbody>\n</table>\n<p>680 rows × 516 columns</p>\n</div>"
     },
     "execution_count": 20,
     "metadata": {},
     "output_type": "execute_result"
    }
   ],
   "source": [
    "train_vec_scores"
   ]
  },
  {
   "cell_type": "code",
   "execution_count": 21,
   "metadata": {
    "id": "tNUOa29tWWsU"
   },
   "outputs": [],
   "source": [
    "# train_vec_scores = train_vec_scores.fillna(0)"
   ]
  },
  {
   "cell_type": "code",
   "execution_count": 22,
   "metadata": {
    "pycharm": {
     "name": "#%%\n"
    }
   },
   "outputs": [],
   "source": [
    "imp_mean = SimpleImputer(missing_values=np.nan, strategy=\"mean\")\n",
    "tranformed_data = imp_mean.fit_transform(train_vec_scores)\n",
    "\n",
    "train_vec_scores_nans = pd.DataFrame(tranformed_data, columns=train_vec_scores.columns)"
   ]
  },
  {
   "cell_type": "markdown",
   "metadata": {
    "id": "VLOa56f5zfUg"
   },
   "source": [
    "## Выделим выборки"
   ]
  },
  {
   "cell_type": "code",
   "execution_count": 23,
   "metadata": {
    "pycharm": {
     "name": "#%%\n"
    }
   },
   "outputs": [],
   "source": [
    "train_vec_scores_nans.to_csv(\"train_vec_scores_nans.csv\", index=False)"
   ]
  },
  {
   "cell_type": "code",
   "execution_count": 24,
   "metadata": {},
   "outputs": [],
   "source": [
    "targets = [\"Analytical thinking\", \"Systemic thinking\", \"Adaptability\", \"Focus\"]"
   ]
  },
  {
   "cell_type": "code",
   "execution_count": 25,
   "metadata": {
    "id": "czsoZexkyyTw"
   },
   "outputs": [],
   "source": [
    "X = train_vec_scores_nans.drop(targets, axis = 1).drop([\"id\", \"user_id\"], axis = 1).drop(592).drop(544)\n",
    "y = train_vec_scores_nans.drop(592).drop(544)[targets]"
   ]
  },
  {
   "cell_type": "code",
   "execution_count": 26,
   "metadata": {
    "id": "E-LfoARf2WGZ"
   },
   "outputs": [],
   "source": [
    "X_train, X_test, y_train, y_test = train_test_split(X, y, test_size=0.3, random_state=42)"
   ]
  },
  {
   "cell_type": "code",
   "execution_count": 27,
   "metadata": {
    "pycharm": {
     "name": "#%%\n"
    }
   },
   "outputs": [],
   "source": [
    "y_train_ada = y_train[[\"Adaptability\"]]\n",
    "y_test_ada = y_test[[\"Adaptability\"]]\n",
    "\n",
    "y_train_sys = y_train[[\"Systemic thinking\"]]\n",
    "y_test_sys = y_test[[\"Systemic thinking\"]]\n",
    "\n",
    "y_train_ana = y_train[[\"Analytical thinking\"]]\n",
    "y_test_ana = y_test[[\"Analytical thinking\"]]\n",
    "\n",
    "y_train_foc = y_train[[\"Focus\"]]\n",
    "y_test_foc = y_test[[\"Focus\"]]"
   ]
  },
  {
   "cell_type": "markdown",
   "metadata": {
    "id": "X_HOvpXy2e3S"
   },
   "source": [
    "## Обучение модели"
   ]
  },
  {
   "cell_type": "code",
   "execution_count": 28,
   "metadata": {
    "id": "1ypNSGoK2czB"
   },
   "outputs": [],
   "source": [
    "params = {\"verbose\": 250,\n",
    "          \"od_wait\": 50,\n",
    "          \"od_type\": \"Iter\",\n",
    "          \"iterations\": 2000,\n",
    "          \"depth\": 4,\n",
    "          \"learning_rate\": 0.007,\n",
    "          \"loss_function\": \"MultiClass\"\n",
    "          }\n",
    "\n",
    "\n",
    "model_ada = CatBoostClassifier(**params)\n",
    "model_sys = CatBoostClassifier(**params)\n",
    "model_ana = CatBoostClassifier(**params)\n",
    "model_foc = CatBoostClassifier(**params)"
   ]
  },
  {
   "cell_type": "code",
   "execution_count": 29,
   "metadata": {
    "colab": {
     "base_uri": "https://localhost:8080/"
    },
    "id": "8K_JDzCJ2glP",
    "outputId": "cd7662bb-bc82-4048-d3c0-687b5e3c7b49"
   },
   "outputs": [
    {
     "name": "stdout",
     "output_type": "stream",
     "text": [
      "0:\tlearn: 1.7820371\ttest: 1.7826268\tbest: 1.7826268 (0)\ttotal: 81.7ms\tremaining: 2m 43s\n",
      "250:\tlearn: 0.9850366\ttest: 1.0812671\tbest: 1.0812671 (250)\ttotal: 4.71s\tremaining: 32.9s\n",
      "500:\tlearn: 0.8463589\ttest: 1.0028203\tbest: 1.0028203 (500)\ttotal: 9.07s\tremaining: 27.1s\n",
      "750:\tlearn: 0.7792510\ttest: 0.9846834\tbest: 0.9846225 (748)\ttotal: 14.1s\tremaining: 23.5s\n",
      "1000:\tlearn: 0.7246170\ttest: 0.9777319\tbest: 0.9777319 (1000)\ttotal: 18.6s\tremaining: 18.6s\n",
      "Stopped by overfitting detector  (50 iterations wait)\n",
      "\n",
      "bestTest = 0.9772665203\n",
      "bestIteration = 1058\n",
      "\n",
      "Shrink model to first 1059 iterations.\n",
      "0:\tlearn: 1.5989246\ttest: 1.5994125\tbest: 1.5994125 (0)\ttotal: 17.2ms\tremaining: 34.5s\n",
      "250:\tlearn: 0.8380135\ttest: 0.9213203\tbest: 0.9213203 (250)\ttotal: 3.63s\tremaining: 25.3s\n",
      "500:\tlearn: 0.7293261\ttest: 0.8543990\tbest: 0.8543990 (500)\ttotal: 7.03s\tremaining: 21s\n",
      "750:\tlearn: 0.6743672\ttest: 0.8343545\tbest: 0.8342978 (749)\ttotal: 10.6s\tremaining: 17.7s\n",
      "1000:\tlearn: 0.6291587\ttest: 0.8242888\tbest: 0.8242888 (1000)\ttotal: 14.3s\tremaining: 14.2s\n",
      "1250:\tlearn: 0.5836739\ttest: 0.8171646\tbest: 0.8169889 (1246)\ttotal: 17.8s\tremaining: 10.7s\n",
      "1500:\tlearn: 0.5443498\ttest: 0.8123166\tbest: 0.8123166 (1500)\ttotal: 21.6s\tremaining: 7.17s\n",
      "Stopped by overfitting detector  (50 iterations wait)\n",
      "\n",
      "bestTest = 0.8116823928\n",
      "bestIteration = 1617\n",
      "\n",
      "Shrink model to first 1618 iterations.\n",
      "0:\tlearn: 1.6014289\ttest: 1.6011702\tbest: 1.6011702 (0)\ttotal: 18ms\tremaining: 36.1s\n",
      "250:\tlearn: 0.9256838\ttest: 0.9580034\tbest: 0.9580034 (250)\ttotal: 3.59s\tremaining: 25s\n",
      "500:\tlearn: 0.8037173\ttest: 0.8837034\tbest: 0.8837034 (500)\ttotal: 6.85s\tremaining: 20.5s\n",
      "750:\tlearn: 0.7441253\ttest: 0.8661328\tbest: 0.8661328 (750)\ttotal: 9.69s\tremaining: 16.1s\n",
      "1000:\tlearn: 0.6921210\ttest: 0.8571217\tbest: 0.8571217 (1000)\ttotal: 13.9s\tremaining: 13.9s\n",
      "1250:\tlearn: 0.6411731\ttest: 0.8537005\tbest: 0.8536422 (1249)\ttotal: 16.7s\tremaining: 9.99s\n",
      "Stopped by overfitting detector  (50 iterations wait)\n",
      "\n",
      "bestTest = 0.853188545\n",
      "bestIteration = 1310\n",
      "\n",
      "Shrink model to first 1311 iterations.\n",
      "0:\tlearn: 1.7810326\ttest: 1.7804248\tbest: 1.7804248 (0)\ttotal: 20.5ms\tremaining: 41s\n",
      "250:\tlearn: 0.9387082\ttest: 0.9259442\tbest: 0.9259442 (250)\ttotal: 2.71s\tremaining: 18.9s\n",
      "500:\tlearn: 0.7974953\ttest: 0.8062091\tbest: 0.8062091 (500)\ttotal: 5.95s\tremaining: 17.8s\n",
      "750:\tlearn: 0.7347127\ttest: 0.7704631\tbest: 0.7704631 (750)\ttotal: 8.72s\tremaining: 14.5s\n",
      "1000:\tlearn: 0.6838136\ttest: 0.7550094\tbest: 0.7549868 (999)\ttotal: 11.4s\tremaining: 11.4s\n",
      "1250:\tlearn: 0.6309693\ttest: 0.7474794\tbest: 0.7473885 (1249)\ttotal: 14.6s\tremaining: 8.75s\n",
      "1500:\tlearn: 0.5841264\ttest: 0.7435522\tbest: 0.7432318 (1475)\ttotal: 17.6s\tremaining: 5.84s\n",
      "1750:\tlearn: 0.5443772\ttest: 0.7417298\tbest: 0.7415661 (1737)\ttotal: 20.2s\tremaining: 2.88s\n",
      "Stopped by overfitting detector  (50 iterations wait)\n",
      "\n",
      "bestTest = 0.7398570728\n",
      "bestIteration = 1935\n",
      "\n",
      "Shrink model to first 1936 iterations.\n"
     ]
    },
    {
     "data": {
      "text/plain": "<catboost.core.CatBoostClassifier at 0x7f7fb1f07310>"
     },
     "execution_count": 29,
     "metadata": {},
     "output_type": "execute_result"
    }
   ],
   "source": [
    "model_ada.fit(X_train, y_train_ada, eval_set=(X_test, y_test_ada))\n",
    "model_sys.fit(X_train, y_train_sys, eval_set=(X_test, y_test_sys))\n",
    "model_ana.fit(X_train, y_train_ana, eval_set=(X_test, y_test_ana))\n",
    "model_foc.fit(X_train, y_train_foc, eval_set=(X_test, y_test_foc))"
   ]
  },
  {
   "cell_type": "markdown",
   "metadata": {
    "id": "aqxTaUVm2iiP"
   },
   "source": [
    "## Оценка точности"
   ]
  },
  {
   "cell_type": "code",
   "execution_count": 30,
   "metadata": {
    "id": "aJt5-Okm2h3I"
   },
   "outputs": [],
   "source": [
    "pred_ada = model_ada.predict(X_test)\n",
    "pred_sys = model_sys.predict(X_test)\n",
    "pred_ana = model_ana.predict(X_test)\n",
    "pred_foc = model_foc.predict(X_test)\n",
    "\n",
    "pred = pd.DataFrame(index=X_test.index)\n",
    "pred[\"Adaptability\"] = pred_ada\n",
    "pred[\"Systemic thinking\"] = pred_sys\n",
    "pred[\"Analytical thinking\"] = pred_ana\n",
    "pred[\"Focus\"] = pred_foc"
   ]
  },
  {
   "cell_type": "code",
   "execution_count": 30,
   "metadata": {
    "pycharm": {
     "name": "#%%\n"
    }
   },
   "outputs": [],
   "source": []
  },
  {
   "cell_type": "code",
   "execution_count": 31,
   "metadata": {
    "colab": {
     "base_uri": "https://localhost:8080/"
    },
    "id": "Vz2JrMW32m3N",
    "outputId": "9dc6ef6b-c3e4-46db-b36a-2d3f4459be03"
   },
   "outputs": [
    {
     "name": "stdout",
     "output_type": "stream",
     "text": [
      "Recall score 0.31552117228535\n"
     ]
    }
   ],
   "source": [
    "result = 0 \n",
    "\n",
    "for i, col in enumerate(y_test.columns):\n",
    "    result += recall_score(y_test[col], pred[col], average='macro', zero_division=True)\n",
    "\n",
    "print(\"Recall score\", result/4)"
   ]
  },
  {
   "cell_type": "markdown",
   "metadata": {
    "pycharm": {
     "name": "#%% md\n"
    }
   },
   "source": [
    "##local##-##public##\n",
    "0.30658 - 0.261382\n",
    "0.30897 - 0.258336\n",
    "0.31063 - 0.271379 - ans6\n",
    "0.30201 - 0.263627 - ans7"
   ]
  },
  {
   "cell_type": "code",
   "execution_count": 26,
   "metadata": {},
   "outputs": [],
   "source": []
  },
  {
   "cell_type": "code",
   "execution_count": 29,
   "metadata": {},
   "outputs": [
    {
     "name": "stdout",
     "output_type": "stream",
     "text": [
      "0:\tlearn: 1.7820186\ttotal: 27.3ms\tremaining: 54.6s\n",
      "250:\tlearn: 1.0035945\ttotal: 5.4s\tremaining: 37.6s\n",
      "500:\tlearn: 0.8769046\ttotal: 10.2s\tremaining: 30.6s\n",
      "750:\tlearn: 0.8182380\ttotal: 15.2s\tremaining: 25.3s\n",
      "1000:\tlearn: 0.7720311\ttotal: 18.8s\tremaining: 18.7s\n",
      "1250:\tlearn: 0.7241497\ttotal: 22.2s\tremaining: 13.3s\n",
      "1500:\tlearn: 0.6792788\ttotal: 25.6s\tremaining: 8.5s\n",
      "1750:\tlearn: 0.6415471\ttotal: 29.1s\tremaining: 4.13s\n",
      "1999:\tlearn: 0.6080237\ttotal: 32.3s\tremaining: 0us\n",
      "0:\tlearn: 1.5979709\ttotal: 18.8ms\tremaining: 37.7s\n",
      "250:\tlearn: 0.8533128\ttotal: 2.94s\tremaining: 20.5s\n",
      "500:\tlearn: 0.7486293\ttotal: 5.84s\tremaining: 17.5s\n",
      "750:\tlearn: 0.6987273\ttotal: 8.63s\tremaining: 14.3s\n",
      "1000:\tlearn: 0.6603219\ttotal: 12.5s\tremaining: 12.5s\n",
      "1250:\tlearn: 0.6220031\ttotal: 16.8s\tremaining: 10s\n",
      "1500:\tlearn: 0.5877514\ttotal: 20.1s\tremaining: 6.69s\n",
      "1750:\tlearn: 0.5554261\ttotal: 23.6s\tremaining: 3.36s\n",
      "1999:\tlearn: 0.5278172\ttotal: 26.9s\tremaining: 0us\n",
      "0:\tlearn: 1.6004096\ttotal: 24.6ms\tremaining: 49.3s\n",
      "250:\tlearn: 0.9222780\ttotal: 3.74s\tremaining: 26.1s\n",
      "500:\tlearn: 0.8108186\ttotal: 6.93s\tremaining: 20.7s\n",
      "750:\tlearn: 0.7574783\ttotal: 10.4s\tremaining: 17.3s\n",
      "1000:\tlearn: 0.7149077\ttotal: 13.7s\tremaining: 13.7s\n",
      "1250:\tlearn: 0.6724487\ttotal: 17s\tremaining: 10.2s\n",
      "1500:\tlearn: 0.6325706\ttotal: 20.6s\tremaining: 6.84s\n",
      "1750:\tlearn: 0.5957380\ttotal: 23.9s\tremaining: 3.39s\n",
      "1999:\tlearn: 0.5668033\ttotal: 27.4s\tremaining: 0us\n",
      "0:\tlearn: 1.7803090\ttotal: 26.2ms\tremaining: 52.3s\n",
      "250:\tlearn: 0.9129821\ttotal: 3.96s\tremaining: 27.6s\n",
      "500:\tlearn: 0.7793115\ttotal: 8.03s\tremaining: 24s\n",
      "750:\tlearn: 0.7236131\ttotal: 11.8s\tremaining: 19.6s\n",
      "1000:\tlearn: 0.6821508\ttotal: 15.8s\tremaining: 15.8s\n",
      "1250:\tlearn: 0.6400183\ttotal: 19.7s\tremaining: 11.8s\n",
      "1500:\tlearn: 0.6022810\ttotal: 23.8s\tremaining: 7.92s\n",
      "1750:\tlearn: 0.5693580\ttotal: 28.2s\tremaining: 4s\n",
      "1999:\tlearn: 0.5404917\ttotal: 32.1s\tremaining: 0us\n"
     ]
    },
    {
     "data": {
      "text/plain": [
       "<catboost.core.CatBoostClassifier at 0x7fd21054cf70>"
      ]
     },
     "execution_count": 29,
     "metadata": {},
     "output_type": "execute_result"
    }
   ],
   "source": [
    "model_ada = CatBoostClassifier(**params)\n",
    "model_sys = CatBoostClassifier(**params)\n",
    "model_ana = CatBoostClassifier(**params)\n",
    "model_foc = CatBoostClassifier(**params)\n",
    "\n",
    "model_ada.fit(X, y[\"Adaptability\"])\n",
    "model_sys.fit(X, y[\"Systemic thinking\"])\n",
    "model_ana.fit(X, y[\"Analytical thinking\"])\n",
    "model_foc.fit(X, y[\"Focus\"])"
   ]
  },
  {
   "cell_type": "code",
   "execution_count": 28,
   "metadata": {},
   "outputs": [],
   "source": [
    "# FOLDS = 4\n",
    "#\n",
    "# ada_pool = Pool(X, y[\"Adaptability\"])\n",
    "#\n",
    "# scores_ada = cv(ada_pool,\n",
    "#                 params,\n",
    "#                 fold_count=FOLDS, return_models=True)\n",
    "#\n",
    "# sys_pool = Pool(X, y[\"Systemic thinking\"])\n",
    "#\n",
    "# scores_sys = cv(sys_pool,\n",
    "#                 params,\n",
    "#                 fold_count=FOLDS, return_models=True)\n",
    "#\n",
    "# ana_pool = Pool(X, y[\"Analytical thinking\"])\n",
    "#\n",
    "# scores_ana = cv(ana_pool,\n",
    "#                 params,\n",
    "#                 fold_count=FOLDS, return_models=True)\n",
    "#\n",
    "# foc_pool = Pool(X, y[\"Focus\"])\n",
    "#\n",
    "# scores_foc = cv(foc_pool,\n",
    "#                 params,\n",
    "#                 fold_count=FOLDS, return_models=True)"
   ]
  },
  {
   "cell_type": "markdown",
   "metadata": {},
   "source": [
    "### Inference"
   ]
  },
  {
   "cell_type": "code",
   "execution_count": 30,
   "metadata": {},
   "outputs": [],
   "source": [
    "subs = pd.read_csv(\"sample_solution.csv\")"
   ]
  },
  {
   "cell_type": "code",
   "execution_count": 31,
   "metadata": {},
   "outputs": [
    {
     "data": {
      "text/html": [
       "<div>\n",
       "<style scoped>\n",
       "    .dataframe tbody tr th:only-of-type {\n",
       "        vertical-align: middle;\n",
       "    }\n",
       "\n",
       "    .dataframe tbody tr th {\n",
       "        vertical-align: top;\n",
       "    }\n",
       "\n",
       "    .dataframe thead th {\n",
       "        text-align: right;\n",
       "    }\n",
       "</style>\n",
       "<table border=\"1\" class=\"dataframe\">\n",
       "  <thead>\n",
       "    <tr style=\"text-align: right;\">\n",
       "      <th></th>\n",
       "      <th>user_id</th>\n",
       "      <th>period</th>\n",
       "      <th>decision_id</th>\n",
       "    </tr>\n",
       "  </thead>\n",
       "  <tbody>\n",
       "    <tr>\n",
       "      <th>1</th>\n",
       "      <td>10318</td>\n",
       "      <td>3</td>\n",
       "      <td>203</td>\n",
       "    </tr>\n",
       "    <tr>\n",
       "      <th>6</th>\n",
       "      <td>10617</td>\n",
       "      <td>3</td>\n",
       "      <td>329</td>\n",
       "    </tr>\n",
       "    <tr>\n",
       "      <th>9</th>\n",
       "      <td>10316</td>\n",
       "      <td>3</td>\n",
       "      <td>26</td>\n",
       "    </tr>\n",
       "    <tr>\n",
       "      <th>13</th>\n",
       "      <td>10850</td>\n",
       "      <td>4</td>\n",
       "      <td>255</td>\n",
       "    </tr>\n",
       "    <tr>\n",
       "      <th>17</th>\n",
       "      <td>10754</td>\n",
       "      <td>3</td>\n",
       "      <td>407</td>\n",
       "    </tr>\n",
       "    <tr>\n",
       "      <th>...</th>\n",
       "      <td>...</td>\n",
       "      <td>...</td>\n",
       "      <td>...</td>\n",
       "    </tr>\n",
       "    <tr>\n",
       "      <th>60214</th>\n",
       "      <td>10630</td>\n",
       "      <td>4</td>\n",
       "      <td>26</td>\n",
       "    </tr>\n",
       "    <tr>\n",
       "      <th>60216</th>\n",
       "      <td>10848</td>\n",
       "      <td>2</td>\n",
       "      <td>409</td>\n",
       "    </tr>\n",
       "    <tr>\n",
       "      <th>60221</th>\n",
       "      <td>10054</td>\n",
       "      <td>1</td>\n",
       "      <td>343</td>\n",
       "    </tr>\n",
       "    <tr>\n",
       "      <th>60223</th>\n",
       "      <td>10312</td>\n",
       "      <td>3</td>\n",
       "      <td>329</td>\n",
       "    </tr>\n",
       "    <tr>\n",
       "      <th>60225</th>\n",
       "      <td>10346</td>\n",
       "      <td>3</td>\n",
       "      <td>123</td>\n",
       "    </tr>\n",
       "  </tbody>\n",
       "</table>\n",
       "<p>17781 rows × 3 columns</p>\n",
       "</div>"
      ],
      "text/plain": [
       "       user_id  period  decision_id\n",
       "1        10318       3          203\n",
       "6        10617       3          329\n",
       "9        10316       3           26\n",
       "13       10850       4          255\n",
       "17       10754       3          407\n",
       "...        ...     ...          ...\n",
       "60214    10630       4           26\n",
       "60216    10848       2          409\n",
       "60221    10054       1          343\n",
       "60223    10312       3          329\n",
       "60225    10346       3          123\n",
       "\n",
       "[17781 rows x 3 columns]"
      ]
     },
     "execution_count": 31,
     "metadata": {},
     "output_type": "execute_result"
    }
   ],
   "source": [
    "list_id = subs[\"id\"].unique().tolist()\n",
    "\n",
    "df_user_test = df_user[df_user[\"user_id\"].isin(list_id)]\n",
    "df_user_test"
   ]
  },
  {
   "cell_type": "code",
   "execution_count": 32,
   "metadata": {},
   "outputs": [],
   "source": [
    "new_datas = create_decision(df_user_test)"
   ]
  },
  {
   "cell_type": "code",
   "execution_count": 33,
   "metadata": {},
   "outputs": [],
   "source": [
    "test = subs.copy()\n",
    "\n",
    "for data in new_datas:\n",
    "    test = test.merge(data, how=\"left\", left_on=\"id\", right_on=\"user_id\").drop(\"user_id\", axis=1)\n"
   ]
  },
  {
   "cell_type": "code",
   "execution_count": 34,
   "metadata": {
    "pycharm": {
     "name": "#%%\n"
    }
   },
   "outputs": [],
   "source": [
    "test_w_vec = test.merge(tfidf_features.reset_index(), how=\"left\", left_on=\"id\", right_on=\"user_id\").drop(\"user_id\", axis=1)"
   ]
  },
  {
   "cell_type": "code",
   "execution_count": 35,
   "metadata": {
    "pycharm": {
     "name": "#%%\n"
    }
   },
   "outputs": [],
   "source": [
    "# test_w_vec = test.merge(per1, how=\"left\", left_on=\"id\", right_on=\"user_id\").drop(\"user_id\", axis=1)\n",
    "# test_w_vec = test_w_vec.merge(per2, how=\"left\", left_on=\"id\", right_on=\"user_id\").drop(\"user_id\", axis=1)\n",
    "# test_w_vec = test_w_vec.merge(per3, how=\"left\", left_on=\"id\", right_on=\"user_id\").drop(\"user_id\", axis=1)\n",
    "# test_w_vec = test_w_vec.merge(per4, how=\"left\", left_on=\"id\", right_on=\"user_id\").drop(\"user_id\", axis=1)"
   ]
  },
  {
   "cell_type": "code",
   "execution_count": 36,
   "metadata": {
    "pycharm": {
     "name": "#%%\n"
    }
   },
   "outputs": [
    {
     "data": {
      "text/html": [
       "<div>\n",
       "<style scoped>\n",
       "    .dataframe tbody tr th:only-of-type {\n",
       "        vertical-align: middle;\n",
       "    }\n",
       "\n",
       "    .dataframe tbody tr th {\n",
       "        vertical-align: top;\n",
       "    }\n",
       "\n",
       "    .dataframe thead th {\n",
       "        text-align: right;\n",
       "    }\n",
       "</style>\n",
       "<table border=\"1\" class=\"dataframe\">\n",
       "  <thead>\n",
       "    <tr style=\"text-align: right;\">\n",
       "      <th></th>\n",
       "      <th>id</th>\n",
       "      <th>Analytical thinking</th>\n",
       "      <th>Systemic thinking</th>\n",
       "      <th>Adaptability</th>\n",
       "      <th>Focus</th>\n",
       "      <th>cnt_1</th>\n",
       "      <th>cnt_2</th>\n",
       "      <th>cnt_3</th>\n",
       "      <th>cnt_4</th>\n",
       "      <th>max_1</th>\n",
       "      <th>...</th>\n",
       "      <th>5_per_2_score</th>\n",
       "      <th>5_per_3_score</th>\n",
       "      <th>5_per_4_score</th>\n",
       "      <th>6_per_0_score</th>\n",
       "      <th>6_per_1_score</th>\n",
       "      <th>6_per_2_score</th>\n",
       "      <th>6_per_3_score</th>\n",
       "      <th>6_per_4_score</th>\n",
       "      <th>game_id</th>\n",
       "      <th>team_id</th>\n",
       "    </tr>\n",
       "  </thead>\n",
       "  <tbody>\n",
       "    <tr>\n",
       "      <th>0</th>\n",
       "      <td>10199</td>\n",
       "      <td>0</td>\n",
       "      <td>0</td>\n",
       "      <td>0</td>\n",
       "      <td>0</td>\n",
       "      <td>2.0</td>\n",
       "      <td>2.0</td>\n",
       "      <td>3.0</td>\n",
       "      <td>2.0</td>\n",
       "      <td>386.0</td>\n",
       "      <td>...</td>\n",
       "      <td>16</td>\n",
       "      <td>10</td>\n",
       "      <td>158</td>\n",
       "      <td>55</td>\n",
       "      <td>32</td>\n",
       "      <td>30</td>\n",
       "      <td>30</td>\n",
       "      <td>4</td>\n",
       "      <td>262</td>\n",
       "      <td>1912</td>\n",
       "    </tr>\n",
       "    <tr>\n",
       "      <th>1</th>\n",
       "      <td>10539</td>\n",
       "      <td>0</td>\n",
       "      <td>0</td>\n",
       "      <td>0</td>\n",
       "      <td>0</td>\n",
       "      <td>1.0</td>\n",
       "      <td>9.0</td>\n",
       "      <td>15.0</td>\n",
       "      <td>17.0</td>\n",
       "      <td>412.0</td>\n",
       "      <td>...</td>\n",
       "      <td>16</td>\n",
       "      <td>13</td>\n",
       "      <td>158</td>\n",
       "      <td>50</td>\n",
       "      <td>19</td>\n",
       "      <td>34</td>\n",
       "      <td>29</td>\n",
       "      <td>4</td>\n",
       "      <td>204</td>\n",
       "      <td>1458</td>\n",
       "    </tr>\n",
       "    <tr>\n",
       "      <th>2</th>\n",
       "      <td>10174</td>\n",
       "      <td>0</td>\n",
       "      <td>0</td>\n",
       "      <td>0</td>\n",
       "      <td>0</td>\n",
       "      <td>NaN</td>\n",
       "      <td>28.0</td>\n",
       "      <td>31.0</td>\n",
       "      <td>20.0</td>\n",
       "      <td>NaN</td>\n",
       "      <td>...</td>\n",
       "      <td>16</td>\n",
       "      <td>45</td>\n",
       "      <td>158</td>\n",
       "      <td>90</td>\n",
       "      <td>29</td>\n",
       "      <td>31</td>\n",
       "      <td>60</td>\n",
       "      <td>4</td>\n",
       "      <td>190</td>\n",
       "      <td>1348</td>\n",
       "    </tr>\n",
       "    <tr>\n",
       "      <th>3</th>\n",
       "      <td>10465</td>\n",
       "      <td>0</td>\n",
       "      <td>0</td>\n",
       "      <td>0</td>\n",
       "      <td>0</td>\n",
       "      <td>15.0</td>\n",
       "      <td>18.0</td>\n",
       "      <td>32.0</td>\n",
       "      <td>18.0</td>\n",
       "      <td>410.0</td>\n",
       "      <td>...</td>\n",
       "      <td>16</td>\n",
       "      <td>4</td>\n",
       "      <td>158</td>\n",
       "      <td>67</td>\n",
       "      <td>26</td>\n",
       "      <td>32</td>\n",
       "      <td>24</td>\n",
       "      <td>4</td>\n",
       "      <td>244</td>\n",
       "      <td>1760</td>\n",
       "    </tr>\n",
       "    <tr>\n",
       "      <th>4</th>\n",
       "      <td>10066</td>\n",
       "      <td>0</td>\n",
       "      <td>0</td>\n",
       "      <td>0</td>\n",
       "      <td>0</td>\n",
       "      <td>8.0</td>\n",
       "      <td>23.0</td>\n",
       "      <td>16.0</td>\n",
       "      <td>6.0</td>\n",
       "      <td>331.0</td>\n",
       "      <td>...</td>\n",
       "      <td>16</td>\n",
       "      <td>-21</td>\n",
       "      <td>158</td>\n",
       "      <td>50</td>\n",
       "      <td>28</td>\n",
       "      <td>25</td>\n",
       "      <td>22</td>\n",
       "      <td>4</td>\n",
       "      <td>183</td>\n",
       "      <td>1260</td>\n",
       "    </tr>\n",
       "    <tr>\n",
       "      <th>...</th>\n",
       "      <td>...</td>\n",
       "      <td>...</td>\n",
       "      <td>...</td>\n",
       "      <td>...</td>\n",
       "      <td>...</td>\n",
       "      <td>...</td>\n",
       "      <td>...</td>\n",
       "      <td>...</td>\n",
       "      <td>...</td>\n",
       "      <td>...</td>\n",
       "      <td>...</td>\n",
       "      <td>...</td>\n",
       "      <td>...</td>\n",
       "      <td>...</td>\n",
       "      <td>...</td>\n",
       "      <td>...</td>\n",
       "      <td>...</td>\n",
       "      <td>...</td>\n",
       "      <td>...</td>\n",
       "      <td>...</td>\n",
       "      <td>...</td>\n",
       "    </tr>\n",
       "    <tr>\n",
       "      <th>288</th>\n",
       "      <td>10433</td>\n",
       "      <td>0</td>\n",
       "      <td>0</td>\n",
       "      <td>0</td>\n",
       "      <td>0</td>\n",
       "      <td>18.0</td>\n",
       "      <td>7.0</td>\n",
       "      <td>1.0</td>\n",
       "      <td>NaN</td>\n",
       "      <td>344.0</td>\n",
       "      <td>...</td>\n",
       "      <td>16</td>\n",
       "      <td>0</td>\n",
       "      <td>158</td>\n",
       "      <td>93</td>\n",
       "      <td>61</td>\n",
       "      <td>39</td>\n",
       "      <td>37</td>\n",
       "      <td>4</td>\n",
       "      <td>214</td>\n",
       "      <td>1562</td>\n",
       "    </tr>\n",
       "    <tr>\n",
       "      <th>289</th>\n",
       "      <td>10893</td>\n",
       "      <td>0</td>\n",
       "      <td>0</td>\n",
       "      <td>0</td>\n",
       "      <td>0</td>\n",
       "      <td>21.0</td>\n",
       "      <td>52.0</td>\n",
       "      <td>34.0</td>\n",
       "      <td>20.0</td>\n",
       "      <td>418.0</td>\n",
       "      <td>...</td>\n",
       "      <td>16</td>\n",
       "      <td>14</td>\n",
       "      <td>158</td>\n",
       "      <td>96</td>\n",
       "      <td>43</td>\n",
       "      <td>30</td>\n",
       "      <td>32</td>\n",
       "      <td>4</td>\n",
       "      <td>184</td>\n",
       "      <td>1278</td>\n",
       "    </tr>\n",
       "    <tr>\n",
       "      <th>290</th>\n",
       "      <td>10909</td>\n",
       "      <td>0</td>\n",
       "      <td>0</td>\n",
       "      <td>0</td>\n",
       "      <td>0</td>\n",
       "      <td>NaN</td>\n",
       "      <td>NaN</td>\n",
       "      <td>NaN</td>\n",
       "      <td>1.0</td>\n",
       "      <td>NaN</td>\n",
       "      <td>...</td>\n",
       "      <td>16</td>\n",
       "      <td>11</td>\n",
       "      <td>158</td>\n",
       "      <td>69</td>\n",
       "      <td>30</td>\n",
       "      <td>34</td>\n",
       "      <td>32</td>\n",
       "      <td>4</td>\n",
       "      <td>206</td>\n",
       "      <td>1474</td>\n",
       "    </tr>\n",
       "    <tr>\n",
       "      <th>291</th>\n",
       "      <td>10889</td>\n",
       "      <td>0</td>\n",
       "      <td>0</td>\n",
       "      <td>0</td>\n",
       "      <td>0</td>\n",
       "      <td>6.0</td>\n",
       "      <td>2.0</td>\n",
       "      <td>5.0</td>\n",
       "      <td>1.0</td>\n",
       "      <td>315.0</td>\n",
       "      <td>...</td>\n",
       "      <td>16</td>\n",
       "      <td>34</td>\n",
       "      <td>158</td>\n",
       "      <td>106</td>\n",
       "      <td>41</td>\n",
       "      <td>13</td>\n",
       "      <td>41</td>\n",
       "      <td>4</td>\n",
       "      <td>184</td>\n",
       "      <td>1268</td>\n",
       "    </tr>\n",
       "    <tr>\n",
       "      <th>292</th>\n",
       "      <td>10613</td>\n",
       "      <td>0</td>\n",
       "      <td>0</td>\n",
       "      <td>0</td>\n",
       "      <td>0</td>\n",
       "      <td>2.0</td>\n",
       "      <td>2.0</td>\n",
       "      <td>9.0</td>\n",
       "      <td>8.0</td>\n",
       "      <td>426.0</td>\n",
       "      <td>...</td>\n",
       "      <td>16</td>\n",
       "      <td>9</td>\n",
       "      <td>158</td>\n",
       "      <td>63</td>\n",
       "      <td>29</td>\n",
       "      <td>24</td>\n",
       "      <td>32</td>\n",
       "      <td>4</td>\n",
       "      <td>210</td>\n",
       "      <td>1530</td>\n",
       "    </tr>\n",
       "  </tbody>\n",
       "</table>\n",
       "<p>293 rows × 516 columns</p>\n",
       "</div>"
      ],
      "text/plain": [
       "        id  Analytical thinking  Systemic thinking  Adaptability  Focus  \\\n",
       "0    10199                    0                  0             0      0   \n",
       "1    10539                    0                  0             0      0   \n",
       "2    10174                    0                  0             0      0   \n",
       "3    10465                    0                  0             0      0   \n",
       "4    10066                    0                  0             0      0   \n",
       "..     ...                  ...                ...           ...    ...   \n",
       "288  10433                    0                  0             0      0   \n",
       "289  10893                    0                  0             0      0   \n",
       "290  10909                    0                  0             0      0   \n",
       "291  10889                    0                  0             0      0   \n",
       "292  10613                    0                  0             0      0   \n",
       "\n",
       "     cnt_1  cnt_2  cnt_3  cnt_4  max_1  ...  5_per_2_score  5_per_3_score  \\\n",
       "0      2.0    2.0    3.0    2.0  386.0  ...             16             10   \n",
       "1      1.0    9.0   15.0   17.0  412.0  ...             16             13   \n",
       "2      NaN   28.0   31.0   20.0    NaN  ...             16             45   \n",
       "3     15.0   18.0   32.0   18.0  410.0  ...             16              4   \n",
       "4      8.0   23.0   16.0    6.0  331.0  ...             16            -21   \n",
       "..     ...    ...    ...    ...    ...  ...            ...            ...   \n",
       "288   18.0    7.0    1.0    NaN  344.0  ...             16              0   \n",
       "289   21.0   52.0   34.0   20.0  418.0  ...             16             14   \n",
       "290    NaN    NaN    NaN    1.0    NaN  ...             16             11   \n",
       "291    6.0    2.0    5.0    1.0  315.0  ...             16             34   \n",
       "292    2.0    2.0    9.0    8.0  426.0  ...             16              9   \n",
       "\n",
       "     5_per_4_score  6_per_0_score  6_per_1_score  6_per_2_score  \\\n",
       "0              158             55             32             30   \n",
       "1              158             50             19             34   \n",
       "2              158             90             29             31   \n",
       "3              158             67             26             32   \n",
       "4              158             50             28             25   \n",
       "..             ...            ...            ...            ...   \n",
       "288            158             93             61             39   \n",
       "289            158             96             43             30   \n",
       "290            158             69             30             34   \n",
       "291            158            106             41             13   \n",
       "292            158             63             29             24   \n",
       "\n",
       "     6_per_3_score  6_per_4_score  game_id  team_id  \n",
       "0               30              4      262     1912  \n",
       "1               29              4      204     1458  \n",
       "2               60              4      190     1348  \n",
       "3               24              4      244     1760  \n",
       "4               22              4      183     1260  \n",
       "..             ...            ...      ...      ...  \n",
       "288             37              4      214     1562  \n",
       "289             32              4      184     1278  \n",
       "290             32              4      206     1474  \n",
       "291             41              4      184     1268  \n",
       "292             32              4      210     1530  \n",
       "\n",
       "[293 rows x 516 columns]"
      ]
     },
     "execution_count": 36,
     "metadata": {},
     "output_type": "execute_result"
    }
   ],
   "source": [
    "test_vec_scores = test_w_vec.merge(place_score, how=\"left\", left_on=\"id\", right_on=\"user_id\")\n",
    "test_vec_scores"
   ]
  },
  {
   "cell_type": "code",
   "execution_count": 36,
   "metadata": {
    "pycharm": {
     "name": "#%%\n"
    }
   },
   "outputs": [],
   "source": []
  },
  {
   "cell_type": "code",
   "execution_count": 37,
   "metadata": {},
   "outputs": [],
   "source": [
    "tranformed_data = imp_mean.transform(test_vec_scores)\n",
    "\n",
    "test_vec_scores_nans = pd.DataFrame(tranformed_data, columns=train_vec_scores.columns)"
   ]
  },
  {
   "cell_type": "code",
   "execution_count": 38,
   "metadata": {},
   "outputs": [],
   "source": [
    "X = test_vec_scores_nans.drop(targets, axis = 1).drop([\"id\", \"user_id\"], axis = 1)\n",
    "y = test[targets]\n",
    "\n",
    "y_test_ada = y[[\"Adaptability\"]]\n",
    "\n",
    "y_test_sys = y[[\"Systemic thinking\"]]\n",
    "\n",
    "y_test_ana = y[[\"Analytical thinking\"]]\n",
    "\n",
    "y_test_foc = y[[\"Focus\"]]"
   ]
  },
  {
   "cell_type": "code",
   "execution_count": 39,
   "metadata": {},
   "outputs": [],
   "source": [
    "pred_ada = model_ada.predict(X)\n",
    "pred_sys = model_sys.predict(X)\n",
    "pred_ana = model_ana.predict(X)\n",
    "pred_foc = model_foc.predict(X)\n",
    "\n"
   ]
  },
  {
   "cell_type": "code",
   "execution_count": 40,
   "metadata": {},
   "outputs": [],
   "source": [
    "ans = subs.copy()\n",
    "#\n",
    "# for i, col in enumerate(targets):\n",
    "#     ans[col] = test_pred[:, i]\n",
    "\n",
    "ans[\"Adaptability\"] = pred_ada\n",
    "ans[\"Systemic thinking\"] = pred_sys\n",
    "ans[\"Analytical thinking\"] = pred_ana\n",
    "ans[\"Focus\"] = pred_foc"
   ]
  },
  {
   "cell_type": "code",
   "execution_count": 42,
   "metadata": {},
   "outputs": [],
   "source": [
    "ans.to_csv(\"ans8.csv\", index=False)"
   ]
  },
  {
   "cell_type": "code",
   "execution_count": 19,
   "metadata": {},
   "outputs": [],
   "source": []
  },
  {
   "cell_type": "code",
   "execution_count": 313,
   "metadata": {},
   "outputs": [
    {
     "data": {
      "text/html": [
       "<div>\n",
       "<style scoped>\n",
       "    .dataframe tbody tr th:only-of-type {\n",
       "        vertical-align: middle;\n",
       "    }\n",
       "\n",
       "    .dataframe tbody tr th {\n",
       "        vertical-align: top;\n",
       "    }\n",
       "\n",
       "    .dataframe thead th {\n",
       "        text-align: right;\n",
       "    }\n",
       "</style>\n",
       "<table border=\"1\" class=\"dataframe\">\n",
       "  <thead>\n",
       "    <tr style=\"text-align: right;\">\n",
       "      <th></th>\n",
       "      <th>id</th>\n",
       "      <th>Analytical thinking</th>\n",
       "      <th>Systemic thinking</th>\n",
       "      <th>Adaptability</th>\n",
       "      <th>Focus</th>\n",
       "    </tr>\n",
       "  </thead>\n",
       "  <tbody>\n",
       "    <tr>\n",
       "      <th>0</th>\n",
       "      <td>1202</td>\n",
       "      <td>4.0</td>\n",
       "      <td>4.0</td>\n",
       "      <td>5.0</td>\n",
       "      <td>4.0</td>\n",
       "    </tr>\n",
       "    <tr>\n",
       "      <th>1</th>\n",
       "      <td>1959</td>\n",
       "      <td>4.0</td>\n",
       "      <td>4.0</td>\n",
       "      <td>4.0</td>\n",
       "      <td>4.0</td>\n",
       "    </tr>\n",
       "    <tr>\n",
       "      <th>2</th>\n",
       "      <td>1142</td>\n",
       "      <td>4.0</td>\n",
       "      <td>4.0</td>\n",
       "      <td>5.0</td>\n",
       "      <td>4.0</td>\n",
       "    </tr>\n",
       "    <tr>\n",
       "      <th>3</th>\n",
       "      <td>1810</td>\n",
       "      <td>4.0</td>\n",
       "      <td>4.0</td>\n",
       "      <td>4.0</td>\n",
       "      <td>4.0</td>\n",
       "    </tr>\n",
       "    <tr>\n",
       "      <th>4</th>\n",
       "      <td>740</td>\n",
       "      <td>4.0</td>\n",
       "      <td>4.0</td>\n",
       "      <td>4.0</td>\n",
       "      <td>4.0</td>\n",
       "    </tr>\n",
       "    <tr>\n",
       "      <th>...</th>\n",
       "      <td>...</td>\n",
       "      <td>...</td>\n",
       "      <td>...</td>\n",
       "      <td>...</td>\n",
       "      <td>...</td>\n",
       "    </tr>\n",
       "    <tr>\n",
       "      <th>288</th>\n",
       "      <td>1644</td>\n",
       "      <td>4.0</td>\n",
       "      <td>4.0</td>\n",
       "      <td>4.0</td>\n",
       "      <td>4.0</td>\n",
       "    </tr>\n",
       "    <tr>\n",
       "      <th>289</th>\n",
       "      <td>2460</td>\n",
       "      <td>5.0</td>\n",
       "      <td>4.0</td>\n",
       "      <td>5.0</td>\n",
       "      <td>5.0</td>\n",
       "    </tr>\n",
       "    <tr>\n",
       "      <th>290</th>\n",
       "      <td>2484</td>\n",
       "      <td>4.0</td>\n",
       "      <td>4.0</td>\n",
       "      <td>5.0</td>\n",
       "      <td>5.0</td>\n",
       "    </tr>\n",
       "    <tr>\n",
       "      <th>291</th>\n",
       "      <td>2453</td>\n",
       "      <td>5.0</td>\n",
       "      <td>4.0</td>\n",
       "      <td>5.0</td>\n",
       "      <td>5.0</td>\n",
       "    </tr>\n",
       "    <tr>\n",
       "      <th>292</th>\n",
       "      <td>2061</td>\n",
       "      <td>4.0</td>\n",
       "      <td>4.0</td>\n",
       "      <td>4.0</td>\n",
       "      <td>4.0</td>\n",
       "    </tr>\n",
       "  </tbody>\n",
       "</table>\n",
       "<p>293 rows × 5 columns</p>\n",
       "</div>"
      ],
      "text/plain": [
       "       id  Analytical thinking  Systemic thinking  Adaptability  Focus\n",
       "0    1202                  4.0                4.0           5.0    4.0\n",
       "1    1959                  4.0                4.0           4.0    4.0\n",
       "2    1142                  4.0                4.0           5.0    4.0\n",
       "3    1810                  4.0                4.0           4.0    4.0\n",
       "4     740                  4.0                4.0           4.0    4.0\n",
       "..    ...                  ...                ...           ...    ...\n",
       "288  1644                  4.0                4.0           4.0    4.0\n",
       "289  2460                  5.0                4.0           5.0    5.0\n",
       "290  2484                  4.0                4.0           5.0    5.0\n",
       "291  2453                  5.0                4.0           5.0    5.0\n",
       "292  2061                  4.0                4.0           4.0    4.0\n",
       "\n",
       "[293 rows x 5 columns]"
      ]
     },
     "execution_count": 313,
     "metadata": {},
     "output_type": "execute_result"
    }
   ],
   "source": [
    "ans"
   ]
  },
  {
   "cell_type": "code",
   "execution_count": null,
   "metadata": {
    "pycharm": {
     "name": "#%%\n"
    }
   },
   "outputs": [],
   "source": []
  },
  {
   "cell_type": "code",
   "execution_count": null,
   "metadata": {
    "pycharm": {
     "name": "#%%\n"
    }
   },
   "outputs": [],
   "source": []
  },
  {
   "cell_type": "code",
   "execution_count": null,
   "outputs": [],
   "source": [],
   "metadata": {
    "collapsed": false,
    "pycharm": {
     "name": "#%%\n"
    }
   }
  }
 ],
 "metadata": {
  "colab": {
   "name": "Симуляция_baseline.ipynb",
   "provenance": []
  },
  "kernelspec": {
   "name": "ts_course",
   "language": "python",
   "display_name": "ts_course"
  },
  "language_info": {
   "codemirror_mode": {
    "name": "ipython",
    "version": 3
   },
   "file_extension": ".py",
   "mimetype": "text/x-python",
   "name": "python",
   "nbconvert_exporter": "python",
   "pygments_lexer": "ipython3",
   "version": "3.8.12"
  }
 },
 "nbformat": 4,
 "nbformat_minor": 1
}