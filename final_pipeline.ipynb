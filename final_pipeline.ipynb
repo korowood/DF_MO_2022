{
 "cells": [
  {
   "cell_type": "markdown",
   "metadata": {
    "id": "qb_ajqWXuguV"
   },
   "source": [
    "## Загрузим нужные библиотеки"
   ]
  },
  {
   "cell_type": "code",
   "execution_count": 1,
   "metadata": {
    "id": "MTgpe_1quUDs"
   },
   "outputs": [],
   "source": [
    "import pandas as pd\n",
    "\n",
    "from sklearn.model_selection import train_test_split\n",
    "\n",
    "import numpy as np\n",
    "from sklearn.metrics import recall_score\n",
    "from catboost import CatBoostClassifier\n",
    "\n",
    "from src.seed_ import seed_everything\n",
    "from src.dicision_stats_features import create_decision\n",
    "\n",
    "from src.usr_t_p import create_place_and_score\n",
    "from src.tfidf_features import create_tfidf_features\n",
    "from src.inference import calc_result, get_ans\n",
    "from src.search_params import start_search\n",
    "\n",
    "from sklearn.impute import SimpleImputer\n",
    "import warnings\n",
    "warnings.filterwarnings(\"ignore\")\n",
    "\n",
    "%matplotlib inline"
   ]
  },
  {
   "cell_type": "code",
   "execution_count": 2,
   "metadata": {
    "pycharm": {
     "name": "#%%\n"
    }
   },
   "outputs": [],
   "source": [
    "%load_ext autoreload\n",
    "%autoreload 2"
   ]
  },
  {
   "cell_type": "markdown",
   "metadata": {
    "pycharm": {
     "name": "#%% md\n"
    }
   },
   "source": [
    "### Fix seed"
   ]
  },
  {
   "cell_type": "code",
   "execution_count": 3,
   "metadata": {
    "pycharm": {
     "name": "#%%\n"
    }
   },
   "outputs": [],
   "source": [
    "seed_everything()"
   ]
  },
  {
   "cell_type": "code",
   "execution_count": 3,
   "metadata": {
    "pycharm": {
     "name": "#%%\n"
    }
   },
   "outputs": [],
   "source": []
  },
  {
   "cell_type": "code",
   "execution_count": 4,
   "metadata": {
    "id": "o9N4JbcWudk2"
   },
   "outputs": [],
   "source": [
    "df_train = pd.read_csv(\"data/train_dataset_train.csv\")\n",
    "df_user = pd.read_csv(\"data/user_decision.csv\")"
   ]
  },
  {
   "cell_type": "markdown",
   "metadata": {
    "id": "7uxtw2uHQIoe"
   },
   "source": [
    "### Добавим новых значений"
   ]
  },
  {
   "cell_type": "code",
   "execution_count": 5,
   "metadata": {},
   "outputs": [
    {
     "data": {
      "text/plain": "       user_id  period  decision_id\n0        10625       1          409\n2        10775       4          420\n3        10236       2          284\n4        10130       3           72\n5        10273       2          140\n...        ...     ...          ...\n60220    10528       1           88\n60222    10832       3          315\n60224    10189       1           33\n60226    10424       2          140\n60227    10050       3          405\n\n[42447 rows x 3 columns]",
      "text/html": "<div>\n<style scoped>\n    .dataframe tbody tr th:only-of-type {\n        vertical-align: middle;\n    }\n\n    .dataframe tbody tr th {\n        vertical-align: top;\n    }\n\n    .dataframe thead th {\n        text-align: right;\n    }\n</style>\n<table border=\"1\" class=\"dataframe\">\n  <thead>\n    <tr style=\"text-align: right;\">\n      <th></th>\n      <th>user_id</th>\n      <th>period</th>\n      <th>decision_id</th>\n    </tr>\n  </thead>\n  <tbody>\n    <tr>\n      <th>0</th>\n      <td>10625</td>\n      <td>1</td>\n      <td>409</td>\n    </tr>\n    <tr>\n      <th>2</th>\n      <td>10775</td>\n      <td>4</td>\n      <td>420</td>\n    </tr>\n    <tr>\n      <th>3</th>\n      <td>10236</td>\n      <td>2</td>\n      <td>284</td>\n    </tr>\n    <tr>\n      <th>4</th>\n      <td>10130</td>\n      <td>3</td>\n      <td>72</td>\n    </tr>\n    <tr>\n      <th>5</th>\n      <td>10273</td>\n      <td>2</td>\n      <td>140</td>\n    </tr>\n    <tr>\n      <th>...</th>\n      <td>...</td>\n      <td>...</td>\n      <td>...</td>\n    </tr>\n    <tr>\n      <th>60220</th>\n      <td>10528</td>\n      <td>1</td>\n      <td>88</td>\n    </tr>\n    <tr>\n      <th>60222</th>\n      <td>10832</td>\n      <td>3</td>\n      <td>315</td>\n    </tr>\n    <tr>\n      <th>60224</th>\n      <td>10189</td>\n      <td>1</td>\n      <td>33</td>\n    </tr>\n    <tr>\n      <th>60226</th>\n      <td>10424</td>\n      <td>2</td>\n      <td>140</td>\n    </tr>\n    <tr>\n      <th>60227</th>\n      <td>10050</td>\n      <td>3</td>\n      <td>405</td>\n    </tr>\n  </tbody>\n</table>\n<p>42447 rows × 3 columns</p>\n</div>"
     },
     "execution_count": 5,
     "metadata": {},
     "output_type": "execute_result"
    }
   ],
   "source": [
    "list_id = df_train[\"id\"].unique().tolist()\n",
    "\n",
    "df_user_train = df_user[df_user[\"user_id\"].isin(list_id)]\n",
    "df_user_train"
   ]
  },
  {
   "cell_type": "code",
   "execution_count": 6,
   "metadata": {
    "pycharm": {
     "name": "#%%\n"
    }
   },
   "outputs": [],
   "source": [
    "new_datas = create_decision(df_user_train)"
   ]
  },
  {
   "cell_type": "code",
   "execution_count": 7,
   "metadata": {},
   "outputs": [],
   "source": [
    "train = df_train.copy()\n",
    "\n",
    "for data in new_datas:\n",
    "    train = train.merge(data, how=\"left\", left_on=\"id\", right_on=\"user_id\").drop(\"user_id\", axis=1)\n"
   ]
  },
  {
   "cell_type": "code",
   "execution_count": 8,
   "metadata": {
    "pycharm": {
     "name": "#%%\n"
    }
   },
   "outputs": [
    {
     "data": {
      "text/plain": "(680, 33)"
     },
     "execution_count": 8,
     "metadata": {},
     "output_type": "execute_result"
    }
   ],
   "source": [
    "train.shape"
   ]
  },
  {
   "cell_type": "code",
   "execution_count": 8,
   "outputs": [],
   "source": [],
   "metadata": {
    "collapsed": false,
    "pycharm": {
     "name": "#%%\n"
    }
   }
  },
  {
   "cell_type": "markdown",
   "metadata": {
    "pycharm": {
     "name": "#%% md\n"
    }
   },
   "source": [
    "### W2V"
   ]
  },
  {
   "cell_type": "code",
   "execution_count": 9,
   "metadata": {
    "pycharm": {
     "name": "#%%\n"
    }
   },
   "outputs": [],
   "source": [
    "# datas = create_w2v_features()"
   ]
  },
  {
   "cell_type": "code",
   "execution_count": 10,
   "metadata": {
    "pycharm": {
     "name": "#%%\n"
    }
   },
   "outputs": [],
   "source": [
    "# per1, per2, per3, per4 = datas[\"period_1\"], datas[\"period_2\"], datas[\"period_3\"], datas[\"period_4\"]"
   ]
  },
  {
   "cell_type": "code",
   "execution_count": 11,
   "metadata": {
    "pycharm": {
     "name": "#%%\n"
    }
   },
   "outputs": [],
   "source": [
    "# train_w_vec = train.merge(per1, how=\"left\", left_on=\"id\", right_on=\"user_id\").drop(\"user_id\", axis=1)\n",
    "# train_w_vec = train_w_vec.merge(per2, how=\"left\", left_on=\"id\", right_on=\"user_id\").drop(\"user_id\", axis=1)\n",
    "# train_w_vec = train_w_vec.merge(per3, how=\"left\", left_on=\"id\", right_on=\"user_id\").drop(\"user_id\", axis=1)\n",
    "# train_w_vec = train_w_vec.merge(per4, how=\"left\", left_on=\"id\", right_on=\"user_id\").drop(\"user_id\", axis=1)"
   ]
  },
  {
   "cell_type": "code",
   "execution_count": 12,
   "metadata": {
    "pycharm": {
     "name": "#%%\n"
    }
   },
   "outputs": [],
   "source": [
    "# train_w_vec"
   ]
  },
  {
   "cell_type": "markdown",
   "metadata": {
    "pycharm": {
     "name": "#%% md\n"
    }
   },
   "source": [
    "### tfidf"
   ]
  },
  {
   "cell_type": "code",
   "execution_count": 13,
   "metadata": {
    "pycharm": {
     "name": "#%%\n"
    }
   },
   "outputs": [],
   "source": [
    "tfidf_features = create_tfidf_features()\n",
    "# a, b, c, d  = create_tfidf_features()"
   ]
  },
  {
   "cell_type": "code",
   "execution_count": 14,
   "metadata": {
    "pycharm": {
     "name": "#%%\n"
    }
   },
   "outputs": [],
   "source": [
    "# tmp = a.drop(\"period\", axis=1).merge(b.drop(\"period\", axis=1), how='inner', left_on=\"user_id\", right_on='user_id')\n",
    "# tmp = tmp.merge(c.drop(\"period\", axis=1), how='inner', left_on=\"user_id\", right_on='user_id')\n",
    "# tfidf_features = tmp.merge(d.drop(\"period\", axis=1), how='inner', left_on=\"user_id\", right_on='user_id')\n",
    "# tfidf_features"
   ]
  },
  {
   "cell_type": "code",
   "execution_count": 15,
   "metadata": {
    "pycharm": {
     "name": "#%%\n"
    }
   },
   "outputs": [],
   "source": [
    "train_w_vec = train.merge(tfidf_features.reset_index(), how=\"left\", left_on=\"id\", right_on=\"user_id\").drop(\"user_id\", axis=1)"
   ]
  },
  {
   "cell_type": "code",
   "execution_count": 16,
   "outputs": [],
   "source": [
    "tfidf_features.to_csv(\"artifacts/tfidf_features.csv\")"
   ],
   "metadata": {
    "collapsed": false,
    "pycharm": {
     "name": "#%%\n"
    }
   }
  },
  {
   "cell_type": "markdown",
   "metadata": {
    "pycharm": {
     "name": "#%% md\n"
    }
   },
   "source": [
    "### User points"
   ]
  },
  {
   "cell_type": "code",
   "execution_count": 18,
   "metadata": {
    "pycharm": {
     "name": "#%%\n"
    }
   },
   "outputs": [],
   "source": [
    "place_score = create_place_and_score()"
   ]
  },
  {
   "cell_type": "code",
   "execution_count": 19,
   "metadata": {
    "pycharm": {
     "name": "#%%\n"
    }
   },
   "outputs": [],
   "source": [
    "train_vec_scores = train_w_vec.merge(place_score, how=\"left\", left_on=\"id\", right_on=\"user_id\")"
   ]
  },
  {
   "cell_type": "code",
   "execution_count": 20,
   "outputs": [],
   "source": [
    "place_score.to_csv(\"artifacts/place_score.csv\", index=False)"
   ],
   "metadata": {
    "collapsed": false,
    "pycharm": {
     "name": "#%%\n"
    }
   }
  },
  {
   "cell_type": "markdown",
   "metadata": {
    "pycharm": {
     "name": "#%% md\n"
    }
   },
   "source": [
    "### Replace NaN"
   ]
  },
  {
   "cell_type": "code",
   "execution_count": 21,
   "metadata": {
    "id": "tNUOa29tWWsU"
   },
   "outputs": [],
   "source": [
    "# train_vec_scores = train_vec_scores.fillna(0)"
   ]
  },
  {
   "cell_type": "code",
   "execution_count": 22,
   "metadata": {
    "pycharm": {
     "name": "#%%\n"
    }
   },
   "outputs": [],
   "source": [
    "imp_mean = SimpleImputer(missing_values=np.nan, strategy=\"mean\")\n",
    "tranformed_data = imp_mean.fit_transform(train_vec_scores)\n",
    "\n",
    "train_vec_scores_nans = pd.DataFrame(tranformed_data, columns=train_vec_scores.columns)"
   ]
  },
  {
   "cell_type": "code",
   "execution_count": 23,
   "outputs": [],
   "source": [
    "pd.to_pickle(imp_mean, \"artifacts/imp_mean.pkl\")"
   ],
   "metadata": {
    "collapsed": false,
    "pycharm": {
     "name": "#%%\n"
    }
   }
  },
  {
   "cell_type": "markdown",
   "metadata": {
    "id": "VLOa56f5zfUg"
   },
   "source": [
    "## Выделим выборки"
   ]
  },
  {
   "cell_type": "code",
   "execution_count": 24,
   "metadata": {
    "pycharm": {
     "name": "#%%\n"
    }
   },
   "outputs": [],
   "source": [
    "train_vec_scores_nans.to_csv(\"artifacts/train_vec_scores_nans.csv\", index=False)"
   ]
  },
  {
   "cell_type": "code",
   "execution_count": 25,
   "metadata": {},
   "outputs": [],
   "source": [
    "targets = [\"Analytical thinking\", \"Systemic thinking\", \"Adaptability\", \"Focus\"]"
   ]
  },
  {
   "cell_type": "code",
   "execution_count": 26,
   "metadata": {
    "id": "czsoZexkyyTw"
   },
   "outputs": [],
   "source": [
    "X = train_vec_scores_nans.drop(targets, axis = 1).drop([\"id\", \"user_id\"], axis = 1).drop(592).drop(544)\n",
    "y = train_vec_scores_nans.drop(592).drop(544)[targets]"
   ]
  },
  {
   "cell_type": "code",
   "execution_count": 27,
   "metadata": {
    "id": "E-LfoARf2WGZ"
   },
   "outputs": [],
   "source": [
    "X_train, X_test, y_train, y_test = train_test_split(X, y, test_size=0.3, random_state=42)"
   ]
  },
  {
   "cell_type": "code",
   "execution_count": 28,
   "metadata": {
    "pycharm": {
     "name": "#%%\n"
    }
   },
   "outputs": [],
   "source": [
    "y_train_ada = y_train[[\"Adaptability\"]]\n",
    "y_test_ada = y_test[[\"Adaptability\"]]\n",
    "\n",
    "y_train_sys = y_train[[\"Systemic thinking\"]]\n",
    "y_test_sys = y_test[[\"Systemic thinking\"]]\n",
    "\n",
    "y_train_ana = y_train[[\"Analytical thinking\"]]\n",
    "y_test_ana = y_test[[\"Analytical thinking\"]]\n",
    "\n",
    "y_train_foc = y_train[[\"Focus\"]]\n",
    "y_test_foc = y_test[[\"Focus\"]]"
   ]
  },
  {
   "cell_type": "markdown",
   "metadata": {
    "id": "X_HOvpXy2e3S"
   },
   "source": [
    "## Обучение модели"
   ]
  },
  {
   "cell_type": "code",
   "execution_count": 29,
   "metadata": {
    "id": "1ypNSGoK2czB"
   },
   "outputs": [],
   "source": [
    "params = {\"verbose\": 250,\n",
    "          \"od_wait\": 50,\n",
    "          \"od_type\": \"Iter\",\n",
    "          \"iterations\": 2000,\n",
    "          \"depth\": 4,\n",
    "          \"learning_rate\": 0.007,\n",
    "          \"loss_function\": \"MultiClass\",\n",
    "          \"eval_metric\": \"AUC\",\n",
    "          }\n",
    "\n",
    "\n",
    "model_ada = CatBoostClassifier(**params)\n",
    "model_sys = CatBoostClassifier(**params)\n",
    "model_ana = CatBoostClassifier(**params)\n",
    "model_foc = CatBoostClassifier(**params)"
   ]
  },
  {
   "cell_type": "code",
   "execution_count": 195,
   "metadata": {
    "colab": {
     "base_uri": "https://localhost:8080/"
    },
    "id": "8K_JDzCJ2glP",
    "outputId": "cd7662bb-bc82-4048-d3c0-687b5e3c7b49"
   },
   "outputs": [
    {
     "name": "stdout",
     "output_type": "stream",
     "text": [
      "0:\ttest: 0.2389365\tbest: 0.2389365 (0)\ttotal: 14.9ms\tremaining: 29.7s\n",
      "Stopped by overfitting detector  (50 iterations wait)\n",
      "\n",
      "bestTest = 0.2638173211\n",
      "bestIteration = 4\n",
      "\n",
      "Shrink model to first 5 iterations.\n",
      "0:\ttest: 0.2910379\tbest: 0.2910379 (0)\ttotal: 23.7ms\tremaining: 47.3s\n",
      "Stopped by overfitting detector  (50 iterations wait)\n",
      "\n",
      "bestTest = 0.438056338\n",
      "bestIteration = 88\n",
      "\n",
      "Shrink model to first 89 iterations.\n",
      "0:\ttest: 0.3281970\tbest: 0.3281970 (0)\ttotal: 29.9ms\tremaining: 59.8s\n",
      "250:\ttest: 0.4164001\tbest: 0.4175647 (227)\ttotal: 3.53s\tremaining: 24.6s\n",
      "Stopped by overfitting detector  (50 iterations wait)\n",
      "\n",
      "bestTest = 0.4175647254\n",
      "bestIteration = 227\n",
      "\n",
      "Shrink model to first 228 iterations.\n",
      "0:\ttest: 0.0899306\tbest: 0.0899306 (0)\ttotal: 17.8ms\tremaining: 35.6s\n",
      "Stopped by overfitting detector  (50 iterations wait)\n",
      "\n",
      "bestTest = 0.1202060932\n",
      "bestIteration = 143\n",
      "\n",
      "Shrink model to first 144 iterations.\n"
     ]
    },
    {
     "data": {
      "text/plain": "<catboost.core.CatBoostClassifier at 0x7ff24d9988b0>"
     },
     "execution_count": 195,
     "metadata": {},
     "output_type": "execute_result"
    }
   ],
   "source": [
    "model_ada.fit(X_train, y_train_ada, eval_set=(X_test, y_test_ada))\n",
    "model_sys.fit(X_train, y_train_sys, eval_set=(X_test, y_test_sys))\n",
    "model_ana.fit(X_train, y_train_ana, eval_set=(X_test, y_test_ana))\n",
    "model_foc.fit(X_train, y_train_foc, eval_set=(X_test, y_test_foc))"
   ]
  },
  {
   "cell_type": "markdown",
   "metadata": {
    "id": "aqxTaUVm2iiP"
   },
   "source": [
    "## Оценка точности"
   ]
  },
  {
   "cell_type": "code",
   "execution_count": 196,
   "metadata": {
    "id": "aJt5-Okm2h3I"
   },
   "outputs": [],
   "source": [
    "pred_ada = model_ada.predict(X_test)\n",
    "pred_sys = model_sys.predict(X_test)\n",
    "pred_ana = model_ana.predict(X_test)\n",
    "pred_foc = model_foc.predict(X_test)\n",
    "\n",
    "pred = pd.DataFrame(index=X_test.index)\n",
    "pred[\"Adaptability\"] = pred_ada\n",
    "pred[\"Systemic thinking\"] = pred_sys\n",
    "pred[\"Analytical thinking\"] = pred_ana\n",
    "pred[\"Focus\"] = pred_foc"
   ]
  },
  {
   "cell_type": "code",
   "execution_count": 196,
   "metadata": {
    "pycharm": {
     "name": "#%%\n"
    }
   },
   "outputs": [],
   "source": []
  },
  {
   "cell_type": "code",
   "execution_count": 197,
   "metadata": {
    "colab": {
     "base_uri": "https://localhost:8080/"
    },
    "id": "Vz2JrMW32m3N",
    "outputId": "9dc6ef6b-c3e4-46db-b36a-2d3f4459be03"
   },
   "outputs": [
    {
     "name": "stdout",
     "output_type": "stream",
     "text": [
      "Recall score 0.28815841892880867\n"
     ]
    }
   ],
   "source": [
    "result = 0 \n",
    "\n",
    "for i, col in enumerate(y_test.columns):\n",
    "    result += recall_score(y_test[col], pred[col], average='macro', zero_division=True)\n",
    "\n",
    "print(\"Recall score\", result/4)"
   ]
  },
  {
   "cell_type": "markdown",
   "metadata": {
    "pycharm": {
     "name": "#%% md\n"
    }
   },
   "source": [
    "##local##-##public##\n",
    "0.30658 - 0.261382\n",
    "0.30897 - 0.258336\n",
    "0.31063 - 0.271379 - ans6\n",
    "0.30201 - 0.263627 - ans7\n",
    "0.31552 - 0.291058 - ans_"
   ]
  },
  {
   "cell_type": "markdown",
   "source": [
    "### Search Hyperparams"
   ],
   "metadata": {
    "collapsed": false,
    "pycharm": {
     "name": "#%% md\n"
    }
   }
  },
  {
   "cell_type": "code",
   "execution_count": 208,
   "metadata": {},
   "outputs": [
    {
     "name": "stderr",
     "output_type": "stream",
     "text": [
      "Custom logger is already specified. Specify more than one logger at same time is not thread safe.Custom logger is already specified. Specify more than one logger at same time is not thread safe.Custom logger is already specified. Specify more than one logger at same time is not thread safe.Custom logger is already specified. Specify more than one logger at same time is not thread safe.Custom logger is already specified. Specify more than one logger at same time is not thread safe.Custom logger is already specified. Specify more than one logger at same time is not thread safe.Custom logger is already specified. Specify more than one logger at same time is not thread safe.Custom logger is already specified. Specify more than one logger at same time is not thread safe.Custom logger is already specified. Specify more than one logger at same time is not thread safe.Custom logger is already specified. Specify more than one logger at same time is not thread safe.Custom logger is already specified. Specify more than one logger at same time is not thread safe.Custom logger is already specified. Specify more than one logger at same time is not thread safe.Custom logger is already specified. Specify more than one logger at same time is not thread safe.Custom logger is already specified. Specify more than one logger at same time is not thread safe.Custom logger is already specified. Specify more than one logger at same time is not thread safe.Custom logger is already specified. Specify more than one logger at same time is not thread safe.Custom logger is already specified. Specify more than one logger at same time is not thread safe.Custom logger is already specified. Specify more than one logger at same time is not thread safe.Custom logger is already specified. Specify more than one logger at same time is not thread safe.Custom logger is already specified. Specify more than one logger at same time is not thread safe.Custom logger is already specified. Specify more than one logger at same time is not thread safe.Custom logger is already specified. Specify more than one logger at same time is not thread safe.Custom logger is already specified. Specify more than one logger at same time is not thread safe.Custom logger is already specified. Specify more than one logger at same time is not thread safe.Custom logger is already specified. Specify more than one logger at same time is not thread safe.Custom logger is already specified. Specify more than one logger at same time is not thread safe.Custom logger is already specified. Specify more than one logger at same time is not thread safe.Custom logger is already specified. Specify more than one logger at same time is not thread safe.Custom logger is already specified. Specify more than one logger at same time is not thread safe.Custom logger is already specified. Specify more than one logger at same time is not thread safe.Custom logger is already specified. Specify more than one logger at same time is not thread safe.Custom logger is already specified. Specify more than one logger at same time is not thread safe.Custom logger is already specified. Specify more than one logger at same time is not thread safe.Custom logger is already specified. Specify more than one logger at same time is not thread safe.Custom logger is already specified. Specify more than one logger at same time is not thread safe.Custom logger is already specified. Specify more than one logger at same time is not thread safe.Custom logger is already specified. Specify more than one logger at same time is not thread safe.Custom logger is already specified. Specify more than one logger at same time is not thread safe.Custom logger is already specified. Specify more than one logger at same time is not thread safe.Custom logger is already specified. Specify more than one logger at same time is not thread safe.Custom logger is already specified. Specify more than one logger at same time is not thread safe.Custom logger is already specified. Specify more than one logger at same time is not thread safe.Custom logger is already specified. Specify more than one logger at same time is not thread safe.Custom logger is already specified. Specify more than one logger at same time is not thread safe.Custom logger is already specified. Specify more than one logger at same time is not thread safe.Custom logger is already specified. Specify more than one logger at same time is not thread safe.Custom logger is already specified. Specify more than one logger at same time is not thread safe.Custom logger is already specified. Specify more than one logger at same time is not thread safe.Custom logger is already specified. Specify more than one logger at same time is not thread safe.Custom logger is already specified. Specify more than one logger at same time is not thread safe.Custom logger is already specified. Specify more than one logger at same time is not thread safe.Custom logger is already specified. Specify more than one logger at same time is not thread safe.Custom logger is already specified. Specify more than one logger at same time is not thread safe.Custom logger is already specified. Specify more than one logger at same time is not thread safe.Custom logger is already specified. Specify more than one logger at same time is not thread safe.Custom logger is already specified. Specify more than one logger at same time is not thread safe.Custom logger is already specified. Specify more than one logger at same time is not thread safe.Custom logger is already specified. Specify more than one logger at same time is not thread safe.Custom logger is already specified. Specify more than one logger at same time is not thread safe.Custom logger is already specified. Specify more than one logger at same time is not thread safe.Custom logger is already specified. Specify more than one logger at same time is not thread safe.Custom logger is already specified. Specify more than one logger at same time is not thread safe.Custom logger is already specified. Specify more than one logger at same time is not thread safe.Custom logger is already specified. Specify more than one logger at same time is not thread safe.Custom logger is already specified. Specify more than one logger at same time is not thread safe.Custom logger is already specified. Specify more than one logger at same time is not thread safe.Custom logger is already specified. Specify more than one logger at same time is not thread safe.Custom logger is already specified. Specify more than one logger at same time is not thread safe.Custom logger is already specified. Specify more than one logger at same time is not thread safe.Custom logger is already specified. Specify more than one logger at same time is not thread safe.Custom logger is already specified. Specify more than one logger at same time is not thread safe.Custom logger is already specified. Specify more than one logger at same time is not thread safe.Custom logger is already specified. Specify more than one logger at same time is not thread safe.Custom logger is already specified. Specify more than one logger at same time is not thread safe.Custom logger is already specified. Specify more than one logger at same time is not thread safe.Custom logger is already specified. Specify more than one logger at same time is not thread safe.Custom logger is already specified. Specify more than one logger at same time is not thread safe.Custom logger is already specified. Specify more than one logger at same time is not thread safe.Custom logger is already specified. Specify more than one logger at same time is not thread safe.Custom logger is already specified. Specify more than one logger at same time is not thread safe.Custom logger is already specified. Specify more than one logger at same time is not thread safe.Custom logger is already specified. Specify more than one logger at same time is not thread safe.Custom logger is already specified. Specify more than one logger at same time is not thread safe.Custom logger is already specified. Specify more than one logger at same time is not thread safe.Custom logger is already specified. Specify more than one logger at same time is not thread safe.Custom logger is already specified. Specify more than one logger at same time is not thread safe.Custom logger is already specified. Specify more than one logger at same time is not thread safe.Custom logger is already specified. Specify more than one logger at same time is not thread safe.Custom logger is already specified. Specify more than one logger at same time is not thread safe.Custom logger is already specified. Specify more than one logger at same time is not thread safe.Custom logger is already specified. Specify more than one logger at same time is not thread safe.Custom logger is already specified. Specify more than one logger at same time is not thread safe.Custom logger is already specified. Specify more than one logger at same time is not thread safe.Custom logger is already specified. Specify more than one logger at same time is not thread safe.Custom logger is already specified. Specify more than one logger at same time is not thread safe.Custom logger is already specified. Specify more than one logger at same time is not thread safe.Custom logger is already specified. Specify more than one logger at same time is not thread safe.Custom logger is already specified. Specify more than one logger at same time is not thread safe.Custom logger is already specified. Specify more than one logger at same time is not thread safe.Custom logger is already specified. Specify more than one logger at same time is not thread safe.Custom logger is already specified. Specify more than one logger at same time is not thread safe.Custom logger is already specified. Specify more than one logger at same time is not thread safe.Custom logger is already specified. Specify more than one logger at same time is not thread safe.Custom logger is already specified. Specify more than one logger at same time is not thread safe.Custom logger is already specified. Specify more than one logger at same time is not thread safe.Custom logger is already specified. Specify more than one logger at same time is not thread safe.Custom logger is already specified. Specify more than one logger at same time is not thread safe.Custom logger is already specified. Specify more than one logger at same time is not thread safe.Custom logger is already specified. Specify more than one logger at same time is not thread safe.Custom logger is already specified. Specify more than one logger at same time is not thread safe.Custom logger is already specified. Specify more than one logger at same time is not thread safe.Custom logger is already specified. Specify more than one logger at same time is not thread safe.Custom logger is already specified. Specify more than one logger at same time is not thread safe.Custom logger is already specified. Specify more than one logger at same time is not thread safe.Custom logger is already specified. Specify more than one logger at same time is not thread safe.Custom logger is already specified. Specify more than one logger at same time is not thread safe.Custom logger is already specified. Specify more than one logger at same time is not thread safe.Custom logger is already specified. Specify more than one logger at same time is not thread safe.Custom logger is already specified. Specify more than one logger at same time is not thread safe.Custom logger is already specified. Specify more than one logger at same time is not thread safe.Custom logger is already specified. Specify more than one logger at same time is not thread safe.Custom logger is already specified. Specify more than one logger at same time is not thread safe.Custom logger is already specified. Specify more than one logger at same time is not thread safe.Custom logger is already specified. Specify more than one logger at same time is not thread safe.Custom logger is already specified. Specify more than one logger at same time is not thread safe.Custom logger is already specified. Specify more than one logger at same time is not thread safe.Custom logger is already specified. Specify more than one logger at same time is not thread safe.Custom logger is already specified. Specify more than one logger at same time is not thread safe.Custom logger is already specified. Specify more than one logger at same time is not thread safe.Custom logger is already specified. Specify more than one logger at same time is not thread safe.Custom logger is already specified. Specify more than one logger at same time is not thread safe.Custom logger is already specified. Specify more than one logger at same time is not thread safe.Custom logger is already specified. Specify more than one logger at same time is not thread safe.Custom logger is already specified. Specify more than one logger at same time is not thread safe.Custom logger is already specified. Specify more than one logger at same time is not thread safe.Custom logger is already specified. Specify more than one logger at same time is not thread safe.Custom logger is already specified. Specify more than one logger at same time is not thread safe.Custom logger is already specified. Specify more than one logger at same time is not thread safe.Custom logger is already specified. Specify more than one logger at same time is not thread safe.Custom logger is already specified. Specify more than one logger at same time is not thread safe.Custom logger is already specified. Specify more than one logger at same time is not thread safe.Custom logger is already specified. Specify more than one logger at same time is not thread safe.Custom logger is already specified. Specify more than one logger at same time is not thread safe.Custom logger is already specified. Specify more than one logger at same time is not thread safe.Custom logger is already specified. Specify more than one logger at same time is not thread safe.Custom logger is already specified. Specify more than one logger at same time is not thread safe.Custom logger is already specified. Specify more than one logger at same time is not thread safe.Custom logger is already specified. Specify more than one logger at same time is not thread safe.Custom logger is already specified. Specify more than one logger at same time is not thread safe."
     ]
    }
   ],
   "source": [
    "params_ada = start_search(X_train, X_test, y_train_ada, y_test_ada)\n",
    "params_sys = start_search(X_train, X_test, y_train_sys, y_test_sys)\n",
    "params_ana = start_search(X_train, X_test, y_train_ana, y_test_ana)\n",
    "params_foc = start_search(X_train, X_test, y_train_foc, y_test_foc)"
   ]
  },
  {
   "cell_type": "code",
   "execution_count": 209,
   "outputs": [
    {
     "name": "stdout",
     "output_type": "stream",
     "text": [
      "Recall score 0.3158540584736246\n"
     ]
    }
   ],
   "source": [
    "params_ada[\"grow_policy\"] = \"Lossguide\"\n",
    "params_sys[\"grow_policy\"] = \"Lossguide\"\n",
    "params_ana[\"grow_policy\"] = \"Lossguide\"\n",
    "params_foc[\"grow_policy\"] = \"Lossguide\"\n",
    "params_ada[\"verbose\"] = 0\n",
    "params_sys[\"verbose\"] = 0\n",
    "params_ana[\"verbose\"] = 0\n",
    "params_foc[\"verbose\"] = 0\n",
    "\n",
    "model_ada = CatBoostClassifier(**params_ada)\n",
    "model_sys = CatBoostClassifier(**params_sys)\n",
    "model_ana = CatBoostClassifier(**params_ana)\n",
    "model_foc = CatBoostClassifier(**params_foc)\n",
    "\n",
    "\n",
    "model_ada.fit(X_train, y_train_ada, eval_set=(X_test, y_test_ada))\n",
    "model_sys.fit(X_train, y_train_sys, eval_set=(X_test, y_test_sys))\n",
    "model_ana.fit(X_train, y_train_ana, eval_set=(X_test, y_test_ana))\n",
    "model_foc.fit(X_train, y_train_foc, eval_set=(X_test, y_test_foc))\n",
    "\n",
    "pred_ada = model_ada.predict(X_test)\n",
    "pred_sys = model_sys.predict(X_test)\n",
    "pred_ana = model_ana.predict(X_test)\n",
    "pred_foc = model_foc.predict(X_test)\n",
    "\n",
    "pred = pd.DataFrame(index=X_test.index)\n",
    "pred[\"Adaptability\"] = pred_ada\n",
    "pred[\"Systemic thinking\"] = pred_sys\n",
    "pred[\"Analytical thinking\"] = pred_ana\n",
    "pred[\"Focus\"] = pred_foc\n",
    "\n",
    "result = 0\n",
    "\n",
    "for i, col in enumerate(y_test.columns):\n",
    "    result += recall_score(y_test[col], pred[col], average='macro', zero_division=True)\n",
    "\n",
    "print(\"Recall score\", result/4)"
   ],
   "metadata": {
    "collapsed": false,
    "pycharm": {
     "name": "#%%\n"
    }
   }
  },
  {
   "cell_type": "code",
   "execution_count": 209,
   "outputs": [],
   "source": [],
   "metadata": {
    "collapsed": false,
    "pycharm": {
     "name": "#%%\n"
    }
   }
  },
  {
   "cell_type": "code",
   "execution_count": 104,
   "outputs": [],
   "source": [],
   "metadata": {
    "collapsed": false,
    "pycharm": {
     "name": "#%%\n"
    }
   }
  },
  {
   "cell_type": "code",
   "execution_count": 210,
   "metadata": {},
   "outputs": [
    {
     "data": {
      "text/plain": "<catboost.core.CatBoostClassifier at 0x7ff2496482e0>"
     },
     "execution_count": 210,
     "metadata": {},
     "output_type": "execute_result"
    }
   ],
   "source": [
    "model_ada = CatBoostClassifier(**params_ada)\n",
    "model_sys = CatBoostClassifier(**params_sys)\n",
    "model_ana = CatBoostClassifier(**params_ana)\n",
    "model_foc = CatBoostClassifier(**params_foc)\n",
    "# model_ada = CatBoostClassifier(**params)\n",
    "# model_sys = CatBoostClassifier(**params)\n",
    "# model_ana = CatBoostClassifier(**params)\n",
    "# model_foc = CatBoostClassifier(**params)\n",
    "\n",
    "\n",
    "\n",
    "model_ada.fit(X, y[\"Adaptability\"])\n",
    "model_sys.fit(X, y[\"Systemic thinking\"])\n",
    "model_ana.fit(X, y[\"Analytical thinking\"])\n",
    "model_foc.fit(X, y[\"Focus\"])"
   ]
  },
  {
   "cell_type": "code",
   "execution_count": 211,
   "outputs": [],
   "source": [
    "pd.to_pickle(model_ada, \"models/model_ada.pkl\")\n",
    "pd.to_pickle(model_sys, \"models/model_sys.pkl\")\n",
    "pd.to_pickle(model_ana, \"models/model_ana.pkl\")\n",
    "pd.to_pickle(model_foc, \"models/model_foc.pkl\")"
   ],
   "metadata": {
    "collapsed": false,
    "pycharm": {
     "name": "#%%\n"
    }
   }
  },
  {
   "cell_type": "code",
   "execution_count": 212,
   "metadata": {},
   "outputs": [],
   "source": [
    "# FOLDS = 4\n",
    "#\n",
    "# ada_pool = Pool(X, y[\"Adaptability\"])\n",
    "#\n",
    "# scores_ada = cv(ada_pool,\n",
    "#                 params,\n",
    "#                 fold_count=FOLDS, return_models=True)\n",
    "#\n",
    "# sys_pool = Pool(X, y[\"Systemic thinking\"])\n",
    "#\n",
    "# scores_sys = cv(sys_pool,\n",
    "#                 params,\n",
    "#                 fold_count=FOLDS, return_models=True)\n",
    "#\n",
    "# ana_pool = Pool(X, y[\"Analytical thinking\"])\n",
    "#\n",
    "# scores_ana = cv(ana_pool,\n",
    "#                 params,\n",
    "#                 fold_count=FOLDS, return_models=True)\n",
    "#\n",
    "# foc_pool = Pool(X, y[\"Focus\"])\n",
    "#\n",
    "# scores_foc = cv(foc_pool,\n",
    "#                 params,\n",
    "#                 fold_count=FOLDS, return_models=True)"
   ]
  },
  {
   "cell_type": "markdown",
   "metadata": {},
   "source": [
    "### Inference"
   ]
  },
  {
   "cell_type": "code",
   "execution_count": 30,
   "metadata": {
    "pycharm": {
     "name": "#%%\n"
    }
   },
   "outputs": [],
   "source": [
    "test_vec_scores_nans = calc_result()"
   ]
  },
  {
   "cell_type": "code",
   "execution_count": 31,
   "metadata": {},
   "outputs": [],
   "source": [
    "X = test_vec_scores_nans.drop(targets, axis = 1).drop([\"id\", \"user_id\"], axis = 1)\n",
    "y = test_vec_scores_nans[targets]\n",
    "\n",
    "y_test_ada = y[[\"Adaptability\"]]\n",
    "\n",
    "y_test_sys = y[[\"Systemic thinking\"]]\n",
    "\n",
    "y_test_ana = y[[\"Analytical thinking\"]]\n",
    "\n",
    "y_test_foc = y[[\"Focus\"]]"
   ]
  },
  {
   "cell_type": "code",
   "execution_count": 215,
   "metadata": {},
   "outputs": [],
   "source": [
    "pred_ada = model_ada.predict(X)\n",
    "pred_sys = model_sys.predict(X)\n",
    "pred_ana = model_ana.predict(X)\n",
    "pred_foc = model_foc.predict(X)\n",
    "\n"
   ]
  },
  {
   "cell_type": "code",
   "execution_count": 216,
   "metadata": {},
   "outputs": [],
   "source": [
    "ans = get_ans(pred_ada, pred_sys, pred_ana, pred_foc)"
   ]
  },
  {
   "cell_type": "code",
   "execution_count": 217,
   "metadata": {},
   "outputs": [
    {
     "data": {
      "text/plain": "        id  Analytical thinking  Systemic thinking  Adaptability  Focus\n0    10199                  4.0                4.0           5.0    5.0\n1    10539                  5.0                4.0           4.0    5.0\n2    10174                  5.0                4.0           5.0    5.0\n3    10465                  4.0                4.0           4.0    4.0\n4    10066                  4.0                4.0           5.0    4.0\n..     ...                  ...                ...           ...    ...\n288  10433                  4.0                4.0           4.0    4.0\n289  10893                  4.0                4.0           5.0    5.0\n290  10909                  4.0                4.0           4.0    4.0\n291  10889                  5.0                4.0           4.0    4.0\n292  10613                  4.0                4.0           4.0    4.0\n\n[293 rows x 5 columns]",
      "text/html": "<div>\n<style scoped>\n    .dataframe tbody tr th:only-of-type {\n        vertical-align: middle;\n    }\n\n    .dataframe tbody tr th {\n        vertical-align: top;\n    }\n\n    .dataframe thead th {\n        text-align: right;\n    }\n</style>\n<table border=\"1\" class=\"dataframe\">\n  <thead>\n    <tr style=\"text-align: right;\">\n      <th></th>\n      <th>id</th>\n      <th>Analytical thinking</th>\n      <th>Systemic thinking</th>\n      <th>Adaptability</th>\n      <th>Focus</th>\n    </tr>\n  </thead>\n  <tbody>\n    <tr>\n      <th>0</th>\n      <td>10199</td>\n      <td>4.0</td>\n      <td>4.0</td>\n      <td>5.0</td>\n      <td>5.0</td>\n    </tr>\n    <tr>\n      <th>1</th>\n      <td>10539</td>\n      <td>5.0</td>\n      <td>4.0</td>\n      <td>4.0</td>\n      <td>5.0</td>\n    </tr>\n    <tr>\n      <th>2</th>\n      <td>10174</td>\n      <td>5.0</td>\n      <td>4.0</td>\n      <td>5.0</td>\n      <td>5.0</td>\n    </tr>\n    <tr>\n      <th>3</th>\n      <td>10465</td>\n      <td>4.0</td>\n      <td>4.0</td>\n      <td>4.0</td>\n      <td>4.0</td>\n    </tr>\n    <tr>\n      <th>4</th>\n      <td>10066</td>\n      <td>4.0</td>\n      <td>4.0</td>\n      <td>5.0</td>\n      <td>4.0</td>\n    </tr>\n    <tr>\n      <th>...</th>\n      <td>...</td>\n      <td>...</td>\n      <td>...</td>\n      <td>...</td>\n      <td>...</td>\n    </tr>\n    <tr>\n      <th>288</th>\n      <td>10433</td>\n      <td>4.0</td>\n      <td>4.0</td>\n      <td>4.0</td>\n      <td>4.0</td>\n    </tr>\n    <tr>\n      <th>289</th>\n      <td>10893</td>\n      <td>4.0</td>\n      <td>4.0</td>\n      <td>5.0</td>\n      <td>5.0</td>\n    </tr>\n    <tr>\n      <th>290</th>\n      <td>10909</td>\n      <td>4.0</td>\n      <td>4.0</td>\n      <td>4.0</td>\n      <td>4.0</td>\n    </tr>\n    <tr>\n      <th>291</th>\n      <td>10889</td>\n      <td>5.0</td>\n      <td>4.0</td>\n      <td>4.0</td>\n      <td>4.0</td>\n    </tr>\n    <tr>\n      <th>292</th>\n      <td>10613</td>\n      <td>4.0</td>\n      <td>4.0</td>\n      <td>4.0</td>\n      <td>4.0</td>\n    </tr>\n  </tbody>\n</table>\n<p>293 rows × 5 columns</p>\n</div>"
     },
     "execution_count": 217,
     "metadata": {},
     "output_type": "execute_result"
    }
   ],
   "source": [
    "ans"
   ]
  },
  {
   "cell_type": "code",
   "execution_count": null,
   "metadata": {
    "pycharm": {
     "name": "#%%\n"
    }
   },
   "outputs": [],
   "source": []
  },
  {
   "cell_type": "code",
   "execution_count": null,
   "metadata": {
    "pycharm": {
     "name": "#%%\n"
    }
   },
   "outputs": [],
   "source": []
  },
  {
   "cell_type": "code",
   "execution_count": null,
   "outputs": [],
   "source": [],
   "metadata": {
    "collapsed": false,
    "pycharm": {
     "name": "#%%\n"
    }
   }
  },
  {
   "cell_type": "code",
   "execution_count": null,
   "outputs": [],
   "source": [],
   "metadata": {
    "collapsed": false,
    "pycharm": {
     "name": "#%%\n"
    }
   }
  },
  {
   "cell_type": "code",
   "execution_count": null,
   "outputs": [],
   "source": [],
   "metadata": {
    "collapsed": false,
    "pycharm": {
     "name": "#%%\n"
    }
   }
  }
 ],
 "metadata": {
  "colab": {
   "name": "Симуляция_baseline.ipynb",
   "provenance": []
  },
  "kernelspec": {
   "name": "ts_course",
   "language": "python",
   "display_name": "ts_course"
  },
  "language_info": {
   "codemirror_mode": {
    "name": "ipython",
    "version": 3
   },
   "file_extension": ".py",
   "mimetype": "text/x-python",
   "name": "python",
   "nbconvert_exporter": "python",
   "pygments_lexer": "ipython3",
   "version": "3.8.12"
  }
 },
 "nbformat": 4,
 "nbformat_minor": 1
}