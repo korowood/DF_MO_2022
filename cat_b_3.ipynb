{
 "cells": [
  {
   "cell_type": "markdown",
   "metadata": {
    "id": "qb_ajqWXuguV"
   },
   "source": [
    "## Загрузим нужные библиотеки"
   ]
  },
  {
   "cell_type": "code",
   "execution_count": 18,
   "metadata": {
    "id": "MTgpe_1quUDs"
   },
   "outputs": [],
   "source": [
    "import pandas as pd\n",
    "import seaborn as sns\n",
    "import matplotlib.pyplot as plt\n",
    "from sklearn.model_selection import train_test_split\n",
    "\n",
    "import numpy as np\n",
    "from sklearn.metrics import recall_score, precision_score\n",
    "from catboost import CatBoostClassifier, cv, Pool\n",
    "\n",
    "from src.seed_ import seed_everything\n",
    "from src.dicision_stats_features import create_decision\n",
    "\n",
    "from usr_t_p import create_place_and_score\n",
    "from src.tfidf_features import create_tfidf_features\n",
    "from src.inference import calc_result, get_ans\n",
    "\n",
    "from sklearn.impute import SimpleImputer\n",
    "import warnings\n",
    "warnings.filterwarnings(\"ignore\")\n",
    "\n",
    "%matplotlib inline"
   ]
  },
  {
   "cell_type": "code",
   "execution_count": 2,
   "metadata": {
    "pycharm": {
     "name": "#%%\n"
    }
   },
   "outputs": [],
   "source": [
    "%load_ext autoreload\n",
    "%autoreload 2"
   ]
  },
  {
   "cell_type": "markdown",
   "metadata": {
    "pycharm": {
     "name": "#%% md\n"
    }
   },
   "source": [
    "### Fix seed"
   ]
  },
  {
   "cell_type": "code",
   "execution_count": 3,
   "metadata": {
    "pycharm": {
     "name": "#%%\n"
    }
   },
   "outputs": [],
   "source": [
    "seed_everything()"
   ]
  },
  {
   "cell_type": "code",
   "execution_count": 3,
   "metadata": {
    "pycharm": {
     "name": "#%%\n"
    }
   },
   "outputs": [],
   "source": []
  },
  {
   "cell_type": "code",
   "execution_count": 4,
   "metadata": {
    "id": "o9N4JbcWudk2"
   },
   "outputs": [],
   "source": [
    "df_train = pd.read_csv(\"data/train_dataset_train.csv\")\n",
    "df_user = pd.read_csv(\"data/user_decision.csv\")"
   ]
  },
  {
   "cell_type": "markdown",
   "metadata": {
    "id": "7uxtw2uHQIoe"
   },
   "source": [
    "### Добавим новых значений"
   ]
  },
  {
   "cell_type": "code",
   "execution_count": 5,
   "metadata": {},
   "outputs": [
    {
     "data": {
      "text/plain": "       user_id  period  decision_id\n0        10625       1          409\n2        10775       4          420\n3        10236       2          284\n4        10130       3           72\n5        10273       2          140\n...        ...     ...          ...\n60220    10528       1           88\n60222    10832       3          315\n60224    10189       1           33\n60226    10424       2          140\n60227    10050       3          405\n\n[42447 rows x 3 columns]",
      "text/html": "<div>\n<style scoped>\n    .dataframe tbody tr th:only-of-type {\n        vertical-align: middle;\n    }\n\n    .dataframe tbody tr th {\n        vertical-align: top;\n    }\n\n    .dataframe thead th {\n        text-align: right;\n    }\n</style>\n<table border=\"1\" class=\"dataframe\">\n  <thead>\n    <tr style=\"text-align: right;\">\n      <th></th>\n      <th>user_id</th>\n      <th>period</th>\n      <th>decision_id</th>\n    </tr>\n  </thead>\n  <tbody>\n    <tr>\n      <th>0</th>\n      <td>10625</td>\n      <td>1</td>\n      <td>409</td>\n    </tr>\n    <tr>\n      <th>2</th>\n      <td>10775</td>\n      <td>4</td>\n      <td>420</td>\n    </tr>\n    <tr>\n      <th>3</th>\n      <td>10236</td>\n      <td>2</td>\n      <td>284</td>\n    </tr>\n    <tr>\n      <th>4</th>\n      <td>10130</td>\n      <td>3</td>\n      <td>72</td>\n    </tr>\n    <tr>\n      <th>5</th>\n      <td>10273</td>\n      <td>2</td>\n      <td>140</td>\n    </tr>\n    <tr>\n      <th>...</th>\n      <td>...</td>\n      <td>...</td>\n      <td>...</td>\n    </tr>\n    <tr>\n      <th>60220</th>\n      <td>10528</td>\n      <td>1</td>\n      <td>88</td>\n    </tr>\n    <tr>\n      <th>60222</th>\n      <td>10832</td>\n      <td>3</td>\n      <td>315</td>\n    </tr>\n    <tr>\n      <th>60224</th>\n      <td>10189</td>\n      <td>1</td>\n      <td>33</td>\n    </tr>\n    <tr>\n      <th>60226</th>\n      <td>10424</td>\n      <td>2</td>\n      <td>140</td>\n    </tr>\n    <tr>\n      <th>60227</th>\n      <td>10050</td>\n      <td>3</td>\n      <td>405</td>\n    </tr>\n  </tbody>\n</table>\n<p>42447 rows × 3 columns</p>\n</div>"
     },
     "execution_count": 5,
     "metadata": {},
     "output_type": "execute_result"
    }
   ],
   "source": [
    "list_id = df_train[\"id\"].unique().tolist()\n",
    "\n",
    "df_user_train = df_user[df_user[\"user_id\"].isin(list_id)]\n",
    "df_user_train"
   ]
  },
  {
   "cell_type": "code",
   "execution_count": 6,
   "metadata": {
    "pycharm": {
     "name": "#%%\n"
    }
   },
   "outputs": [],
   "source": [
    "new_datas = create_decision(df_user_train)"
   ]
  },
  {
   "cell_type": "code",
   "execution_count": 7,
   "metadata": {},
   "outputs": [],
   "source": [
    "train = df_train.copy()\n",
    "\n",
    "for data in new_datas:\n",
    "    train = train.merge(data, how=\"left\", left_on=\"id\", right_on=\"user_id\").drop(\"user_id\", axis=1)\n"
   ]
  },
  {
   "cell_type": "code",
   "execution_count": 8,
   "metadata": {
    "pycharm": {
     "name": "#%%\n"
    }
   },
   "outputs": [
    {
     "data": {
      "text/plain": "(680, 33)"
     },
     "execution_count": 8,
     "metadata": {},
     "output_type": "execute_result"
    }
   ],
   "source": [
    "train.shape"
   ]
  },
  {
   "cell_type": "code",
   "execution_count": 45,
   "outputs": [
    {
     "data": {
      "text/plain": "        id  Analytical thinking  Systemic thinking  Adaptability  Focus  \\\n0    10884                  4.0                4.0           4.0    4.0   \n1    10106                  5.0                4.0           5.0    5.0   \n2    10438                  6.0                5.0           5.0    5.0   \n3    10130                  5.0                4.0           5.0    5.0   \n4    10667                  4.0                5.0           5.0    5.0   \n..     ...                  ...                ...           ...    ...   \n675  10563                  5.0                4.0           5.0    4.0   \n676  10386                  5.0                4.0           5.0    5.0   \n677  10675                  5.0                4.0           5.0    4.0   \n678  10366                  4.0                4.0           4.0    4.0   \n679  10340                  4.0                4.0           4.0    4.0   \n\n     cnt_1  cnt_2  cnt_3  cnt_4  max_1  ...  median_3  median_4       std_1  \\\n0      7.0   14.0   28.0   10.0  386.0  ...     125.5      79.5   85.494639   \n1     21.0   21.0   12.0    8.0  333.0  ...     239.0     172.0   83.655786   \n2     62.0   45.0   63.0   38.0  424.0  ...     247.0     321.0  113.514744   \n3     26.0   28.0   34.0   66.0  410.0  ...     193.5     285.0  137.530774   \n4     58.0   70.0  194.0   35.0  412.0  ...     244.5     331.0  115.607017   \n..     ...    ...    ...    ...    ...  ...       ...       ...         ...   \n675   10.0    2.0   14.0    4.0  422.0  ...     328.5     376.5  114.343343   \n676    1.0   14.0   24.0    1.0  114.0  ...     157.0     409.0         NaN   \n677    4.0   17.0   23.0   12.0  434.0  ...     304.0     426.5   78.261847   \n678   10.0   44.0   45.0   38.0  426.0  ...     125.0     131.5   68.935074   \n679    NaN    NaN    1.0    2.0    NaN  ...     301.0     306.5         NaN   \n\n          std_2       std_3       std_4    sum_1    sum_2    sum_3    sum_4  \n0     73.199899  100.213232  173.489193   1827.0   1625.0   4141.0   1955.0  \n1     43.022475   84.584681  160.197869   3691.0   6188.0   2937.0   1378.0  \n2    115.356671  125.055572  140.129771  12406.0  12350.0  14644.0  10266.0  \n3    108.084494  122.886065  117.041185   5640.0   3611.0   7089.0  15359.0  \n4    118.434657  124.114647   73.036287   8526.0   9449.0  44664.0  11437.0  \n..          ...         ...         ...      ...      ...      ...      ...  \n675    0.000000  133.562205  152.081119   3418.0    552.0   4027.0   1284.0  \n676   96.739482   74.015226         NaN    114.0   2586.0   4318.0    409.0  \n677   70.534618   80.581410   60.691657   1565.0   6436.0   8004.0   4827.0  \n678  114.880276  113.471787  104.441480   3246.0  10134.0   7223.0   5990.0  \n679         NaN         NaN   31.819805      NaN      NaN    301.0    613.0  \n\n[680 rows x 33 columns]",
      "text/html": "<div>\n<style scoped>\n    .dataframe tbody tr th:only-of-type {\n        vertical-align: middle;\n    }\n\n    .dataframe tbody tr th {\n        vertical-align: top;\n    }\n\n    .dataframe thead th {\n        text-align: right;\n    }\n</style>\n<table border=\"1\" class=\"dataframe\">\n  <thead>\n    <tr style=\"text-align: right;\">\n      <th></th>\n      <th>id</th>\n      <th>Analytical thinking</th>\n      <th>Systemic thinking</th>\n      <th>Adaptability</th>\n      <th>Focus</th>\n      <th>cnt_1</th>\n      <th>cnt_2</th>\n      <th>cnt_3</th>\n      <th>cnt_4</th>\n      <th>max_1</th>\n      <th>...</th>\n      <th>median_3</th>\n      <th>median_4</th>\n      <th>std_1</th>\n      <th>std_2</th>\n      <th>std_3</th>\n      <th>std_4</th>\n      <th>sum_1</th>\n      <th>sum_2</th>\n      <th>sum_3</th>\n      <th>sum_4</th>\n    </tr>\n  </thead>\n  <tbody>\n    <tr>\n      <th>0</th>\n      <td>10884</td>\n      <td>4.0</td>\n      <td>4.0</td>\n      <td>4.0</td>\n      <td>4.0</td>\n      <td>7.0</td>\n      <td>14.0</td>\n      <td>28.0</td>\n      <td>10.0</td>\n      <td>386.0</td>\n      <td>...</td>\n      <td>125.5</td>\n      <td>79.5</td>\n      <td>85.494639</td>\n      <td>73.199899</td>\n      <td>100.213232</td>\n      <td>173.489193</td>\n      <td>1827.0</td>\n      <td>1625.0</td>\n      <td>4141.0</td>\n      <td>1955.0</td>\n    </tr>\n    <tr>\n      <th>1</th>\n      <td>10106</td>\n      <td>5.0</td>\n      <td>4.0</td>\n      <td>5.0</td>\n      <td>5.0</td>\n      <td>21.0</td>\n      <td>21.0</td>\n      <td>12.0</td>\n      <td>8.0</td>\n      <td>333.0</td>\n      <td>...</td>\n      <td>239.0</td>\n      <td>172.0</td>\n      <td>83.655786</td>\n      <td>43.022475</td>\n      <td>84.584681</td>\n      <td>160.197869</td>\n      <td>3691.0</td>\n      <td>6188.0</td>\n      <td>2937.0</td>\n      <td>1378.0</td>\n    </tr>\n    <tr>\n      <th>2</th>\n      <td>10438</td>\n      <td>6.0</td>\n      <td>5.0</td>\n      <td>5.0</td>\n      <td>5.0</td>\n      <td>62.0</td>\n      <td>45.0</td>\n      <td>63.0</td>\n      <td>38.0</td>\n      <td>424.0</td>\n      <td>...</td>\n      <td>247.0</td>\n      <td>321.0</td>\n      <td>113.514744</td>\n      <td>115.356671</td>\n      <td>125.055572</td>\n      <td>140.129771</td>\n      <td>12406.0</td>\n      <td>12350.0</td>\n      <td>14644.0</td>\n      <td>10266.0</td>\n    </tr>\n    <tr>\n      <th>3</th>\n      <td>10130</td>\n      <td>5.0</td>\n      <td>4.0</td>\n      <td>5.0</td>\n      <td>5.0</td>\n      <td>26.0</td>\n      <td>28.0</td>\n      <td>34.0</td>\n      <td>66.0</td>\n      <td>410.0</td>\n      <td>...</td>\n      <td>193.5</td>\n      <td>285.0</td>\n      <td>137.530774</td>\n      <td>108.084494</td>\n      <td>122.886065</td>\n      <td>117.041185</td>\n      <td>5640.0</td>\n      <td>3611.0</td>\n      <td>7089.0</td>\n      <td>15359.0</td>\n    </tr>\n    <tr>\n      <th>4</th>\n      <td>10667</td>\n      <td>4.0</td>\n      <td>5.0</td>\n      <td>5.0</td>\n      <td>5.0</td>\n      <td>58.0</td>\n      <td>70.0</td>\n      <td>194.0</td>\n      <td>35.0</td>\n      <td>412.0</td>\n      <td>...</td>\n      <td>244.5</td>\n      <td>331.0</td>\n      <td>115.607017</td>\n      <td>118.434657</td>\n      <td>124.114647</td>\n      <td>73.036287</td>\n      <td>8526.0</td>\n      <td>9449.0</td>\n      <td>44664.0</td>\n      <td>11437.0</td>\n    </tr>\n    <tr>\n      <th>...</th>\n      <td>...</td>\n      <td>...</td>\n      <td>...</td>\n      <td>...</td>\n      <td>...</td>\n      <td>...</td>\n      <td>...</td>\n      <td>...</td>\n      <td>...</td>\n      <td>...</td>\n      <td>...</td>\n      <td>...</td>\n      <td>...</td>\n      <td>...</td>\n      <td>...</td>\n      <td>...</td>\n      <td>...</td>\n      <td>...</td>\n      <td>...</td>\n      <td>...</td>\n      <td>...</td>\n    </tr>\n    <tr>\n      <th>675</th>\n      <td>10563</td>\n      <td>5.0</td>\n      <td>4.0</td>\n      <td>5.0</td>\n      <td>4.0</td>\n      <td>10.0</td>\n      <td>2.0</td>\n      <td>14.0</td>\n      <td>4.0</td>\n      <td>422.0</td>\n      <td>...</td>\n      <td>328.5</td>\n      <td>376.5</td>\n      <td>114.343343</td>\n      <td>0.000000</td>\n      <td>133.562205</td>\n      <td>152.081119</td>\n      <td>3418.0</td>\n      <td>552.0</td>\n      <td>4027.0</td>\n      <td>1284.0</td>\n    </tr>\n    <tr>\n      <th>676</th>\n      <td>10386</td>\n      <td>5.0</td>\n      <td>4.0</td>\n      <td>5.0</td>\n      <td>5.0</td>\n      <td>1.0</td>\n      <td>14.0</td>\n      <td>24.0</td>\n      <td>1.0</td>\n      <td>114.0</td>\n      <td>...</td>\n      <td>157.0</td>\n      <td>409.0</td>\n      <td>NaN</td>\n      <td>96.739482</td>\n      <td>74.015226</td>\n      <td>NaN</td>\n      <td>114.0</td>\n      <td>2586.0</td>\n      <td>4318.0</td>\n      <td>409.0</td>\n    </tr>\n    <tr>\n      <th>677</th>\n      <td>10675</td>\n      <td>5.0</td>\n      <td>4.0</td>\n      <td>5.0</td>\n      <td>4.0</td>\n      <td>4.0</td>\n      <td>17.0</td>\n      <td>23.0</td>\n      <td>12.0</td>\n      <td>434.0</td>\n      <td>...</td>\n      <td>304.0</td>\n      <td>426.5</td>\n      <td>78.261847</td>\n      <td>70.534618</td>\n      <td>80.581410</td>\n      <td>60.691657</td>\n      <td>1565.0</td>\n      <td>6436.0</td>\n      <td>8004.0</td>\n      <td>4827.0</td>\n    </tr>\n    <tr>\n      <th>678</th>\n      <td>10366</td>\n      <td>4.0</td>\n      <td>4.0</td>\n      <td>4.0</td>\n      <td>4.0</td>\n      <td>10.0</td>\n      <td>44.0</td>\n      <td>45.0</td>\n      <td>38.0</td>\n      <td>426.0</td>\n      <td>...</td>\n      <td>125.0</td>\n      <td>131.5</td>\n      <td>68.935074</td>\n      <td>114.880276</td>\n      <td>113.471787</td>\n      <td>104.441480</td>\n      <td>3246.0</td>\n      <td>10134.0</td>\n      <td>7223.0</td>\n      <td>5990.0</td>\n    </tr>\n    <tr>\n      <th>679</th>\n      <td>10340</td>\n      <td>4.0</td>\n      <td>4.0</td>\n      <td>4.0</td>\n      <td>4.0</td>\n      <td>NaN</td>\n      <td>NaN</td>\n      <td>1.0</td>\n      <td>2.0</td>\n      <td>NaN</td>\n      <td>...</td>\n      <td>301.0</td>\n      <td>306.5</td>\n      <td>NaN</td>\n      <td>NaN</td>\n      <td>NaN</td>\n      <td>31.819805</td>\n      <td>NaN</td>\n      <td>NaN</td>\n      <td>301.0</td>\n      <td>613.0</td>\n    </tr>\n  </tbody>\n</table>\n<p>680 rows × 33 columns</p>\n</div>"
     },
     "execution_count": 45,
     "metadata": {},
     "output_type": "execute_result"
    }
   ],
   "source": [
    "train"
   ],
   "metadata": {
    "collapsed": false,
    "pycharm": {
     "name": "#%%\n"
    }
   }
  },
  {
   "cell_type": "markdown",
   "metadata": {
    "pycharm": {
     "name": "#%% md\n"
    }
   },
   "source": [
    "### W2V"
   ]
  },
  {
   "cell_type": "code",
   "execution_count": 9,
   "metadata": {
    "pycharm": {
     "name": "#%%\n"
    }
   },
   "outputs": [],
   "source": [
    "# datas = create_w2v_features()"
   ]
  },
  {
   "cell_type": "code",
   "execution_count": 10,
   "metadata": {
    "pycharm": {
     "name": "#%%\n"
    }
   },
   "outputs": [],
   "source": [
    "# per1, per2, per3, per4 = datas[\"period_1\"], datas[\"period_2\"], datas[\"period_3\"], datas[\"period_4\"]"
   ]
  },
  {
   "cell_type": "code",
   "execution_count": 11,
   "metadata": {
    "pycharm": {
     "name": "#%%\n"
    }
   },
   "outputs": [],
   "source": [
    "# train_w_vec = train.merge(per1, how=\"left\", left_on=\"id\", right_on=\"user_id\").drop(\"user_id\", axis=1)\n",
    "# train_w_vec = train_w_vec.merge(per2, how=\"left\", left_on=\"id\", right_on=\"user_id\").drop(\"user_id\", axis=1)\n",
    "# train_w_vec = train_w_vec.merge(per3, how=\"left\", left_on=\"id\", right_on=\"user_id\").drop(\"user_id\", axis=1)\n",
    "# train_w_vec = train_w_vec.merge(per4, how=\"left\", left_on=\"id\", right_on=\"user_id\").drop(\"user_id\", axis=1)"
   ]
  },
  {
   "cell_type": "code",
   "execution_count": 12,
   "metadata": {
    "pycharm": {
     "name": "#%%\n"
    }
   },
   "outputs": [],
   "source": [
    "# train_w_vec"
   ]
  },
  {
   "cell_type": "markdown",
   "metadata": {
    "pycharm": {
     "name": "#%% md\n"
    }
   },
   "source": [
    "### tfidf"
   ]
  },
  {
   "cell_type": "code",
   "execution_count": 13,
   "metadata": {
    "pycharm": {
     "name": "#%%\n"
    }
   },
   "outputs": [],
   "source": [
    "tfidf_features = create_tfidf_features()\n",
    "# a, b, c, d  = create_tfidf_features()"
   ]
  },
  {
   "cell_type": "code",
   "execution_count": 14,
   "metadata": {
    "pycharm": {
     "name": "#%%\n"
    }
   },
   "outputs": [],
   "source": [
    "# tmp = a.drop(\"period\", axis=1).merge(b.drop(\"period\", axis=1), how='inner', left_on=\"user_id\", right_on='user_id')\n",
    "# tmp = tmp.merge(c.drop(\"period\", axis=1), how='inner', left_on=\"user_id\", right_on='user_id')\n",
    "# tfidf_features = tmp.merge(d.drop(\"period\", axis=1), how='inner', left_on=\"user_id\", right_on='user_id')\n",
    "# tfidf_features"
   ]
  },
  {
   "cell_type": "code",
   "execution_count": 15,
   "metadata": {
    "pycharm": {
     "name": "#%%\n"
    }
   },
   "outputs": [],
   "source": [
    "train_w_vec = train.merge(tfidf_features.reset_index(), how=\"left\", left_on=\"id\", right_on=\"user_id\").drop(\"user_id\", axis=1)"
   ]
  },
  {
   "cell_type": "code",
   "execution_count": 16,
   "outputs": [],
   "source": [
    "tfidf_features.to_csv(\"artifacts/tfidf_features.csv\")"
   ],
   "metadata": {
    "collapsed": false,
    "pycharm": {
     "name": "#%%\n"
    }
   }
  },
  {
   "cell_type": "markdown",
   "metadata": {
    "pycharm": {
     "name": "#%% md\n"
    }
   },
   "source": [
    "### User points"
   ]
  },
  {
   "cell_type": "code",
   "execution_count": 19,
   "metadata": {
    "pycharm": {
     "name": "#%%\n"
    }
   },
   "outputs": [],
   "source": [
    "place_score = create_place_and_score()"
   ]
  },
  {
   "cell_type": "code",
   "execution_count": 20,
   "metadata": {
    "pycharm": {
     "name": "#%%\n"
    }
   },
   "outputs": [],
   "source": [
    "train_vec_scores = train_w_vec.merge(place_score, how=\"left\", left_on=\"id\", right_on=\"user_id\")"
   ]
  },
  {
   "cell_type": "code",
   "execution_count": 20,
   "outputs": [],
   "source": [],
   "metadata": {
    "collapsed": false,
    "pycharm": {
     "name": "#%%\n"
    }
   }
  },
  {
   "cell_type": "code",
   "execution_count": 21,
   "outputs": [],
   "source": [
    "place_score.to_csv(\"artifacts/place_score.csv\", index=False)"
   ],
   "metadata": {
    "collapsed": false,
    "pycharm": {
     "name": "#%%\n"
    }
   }
  },
  {
   "cell_type": "markdown",
   "metadata": {
    "pycharm": {
     "name": "#%% md\n"
    }
   },
   "source": [
    "### Replace NaN"
   ]
  },
  {
   "cell_type": "code",
   "execution_count": 52,
   "metadata": {
    "id": "tNUOa29tWWsU"
   },
   "outputs": [],
   "source": [
    "# train_vec_scores = train_vec_scores.fillna(0)"
   ]
  },
  {
   "cell_type": "code",
   "execution_count": 23,
   "metadata": {
    "pycharm": {
     "name": "#%%\n"
    }
   },
   "outputs": [],
   "source": [
    "imp_mean = SimpleImputer(missing_values=np.nan, strategy=\"mean\")\n",
    "tranformed_data = imp_mean.fit_transform(train_vec_scores)\n",
    "\n",
    "train_vec_scores_nans = pd.DataFrame(tranformed_data, columns=train_vec_scores.columns)"
   ]
  },
  {
   "cell_type": "code",
   "execution_count": 24,
   "outputs": [],
   "source": [
    "pd.to_pickle(imp_mean, \"artifacts/imp_mean.pkl\")"
   ],
   "metadata": {
    "collapsed": false,
    "pycharm": {
     "name": "#%%\n"
    }
   }
  },
  {
   "cell_type": "markdown",
   "metadata": {
    "id": "VLOa56f5zfUg"
   },
   "source": [
    "## Выделим выборки"
   ]
  },
  {
   "cell_type": "code",
   "execution_count": 26,
   "metadata": {
    "pycharm": {
     "name": "#%%\n"
    }
   },
   "outputs": [],
   "source": [
    "train_vec_scores_nans.to_csv(\"artifacts/train_vec_scores_nans.csv\", index=False)"
   ]
  },
  {
   "cell_type": "code",
   "execution_count": 27,
   "metadata": {},
   "outputs": [],
   "source": [
    "targets = [\"Analytical thinking\", \"Systemic thinking\", \"Adaptability\", \"Focus\"]"
   ]
  },
  {
   "cell_type": "code",
   "execution_count": 28,
   "metadata": {
    "id": "czsoZexkyyTw"
   },
   "outputs": [],
   "source": [
    "X = train_vec_scores_nans.drop(targets, axis = 1).drop([\"id\", \"user_id\"], axis = 1).drop(592).drop(544)\n",
    "y = train_vec_scores_nans.drop(592).drop(544)[targets]"
   ]
  },
  {
   "cell_type": "code",
   "execution_count": 29,
   "metadata": {
    "id": "E-LfoARf2WGZ"
   },
   "outputs": [],
   "source": [
    "X_train, X_test, y_train, y_test = train_test_split(X, y, test_size=0.3, random_state=42)"
   ]
  },
  {
   "cell_type": "code",
   "execution_count": 30,
   "metadata": {
    "pycharm": {
     "name": "#%%\n"
    }
   },
   "outputs": [],
   "source": [
    "y_train_ada = y_train[[\"Adaptability\"]]\n",
    "y_test_ada = y_test[[\"Adaptability\"]]\n",
    "\n",
    "y_train_sys = y_train[[\"Systemic thinking\"]]\n",
    "y_test_sys = y_test[[\"Systemic thinking\"]]\n",
    "\n",
    "y_train_ana = y_train[[\"Analytical thinking\"]]\n",
    "y_test_ana = y_test[[\"Analytical thinking\"]]\n",
    "\n",
    "y_train_foc = y_train[[\"Focus\"]]\n",
    "y_test_foc = y_test[[\"Focus\"]]"
   ]
  },
  {
   "cell_type": "markdown",
   "metadata": {
    "id": "X_HOvpXy2e3S"
   },
   "source": [
    "## Обучение модели"
   ]
  },
  {
   "cell_type": "code",
   "execution_count": 31,
   "metadata": {
    "id": "1ypNSGoK2czB"
   },
   "outputs": [],
   "source": [
    "params = {\"verbose\": 250,\n",
    "          \"od_wait\": 50,\n",
    "          \"od_type\": \"Iter\",\n",
    "          \"iterations\": 2000,\n",
    "          \"depth\": 4,\n",
    "          \"learning_rate\": 0.007,\n",
    "          \"loss_function\": \"MultiClass\"\n",
    "          }\n",
    "\n",
    "\n",
    "model_ada = CatBoostClassifier(**params)\n",
    "model_sys = CatBoostClassifier(**params)\n",
    "model_ana = CatBoostClassifier(**params)\n",
    "model_foc = CatBoostClassifier(**params)"
   ]
  },
  {
   "cell_type": "code",
   "execution_count": 32,
   "metadata": {
    "colab": {
     "base_uri": "https://localhost:8080/"
    },
    "id": "8K_JDzCJ2glP",
    "outputId": "cd7662bb-bc82-4048-d3c0-687b5e3c7b49"
   },
   "outputs": [
    {
     "name": "stdout",
     "output_type": "stream",
     "text": [
      "0:\tlearn: 1.7820371\ttest: 1.7826268\tbest: 1.7826268 (0)\ttotal: 77.2ms\tremaining: 2m 34s\n",
      "250:\tlearn: 0.9850366\ttest: 1.0812671\tbest: 1.0812671 (250)\ttotal: 4.78s\tremaining: 33.3s\n",
      "500:\tlearn: 0.8463589\ttest: 1.0028203\tbest: 1.0028203 (500)\ttotal: 8.82s\tremaining: 26.4s\n",
      "750:\tlearn: 0.7792510\ttest: 0.9846834\tbest: 0.9846225 (748)\ttotal: 13s\tremaining: 21.6s\n",
      "1000:\tlearn: 0.7246170\ttest: 0.9777319\tbest: 0.9777319 (1000)\ttotal: 18.3s\tremaining: 18.3s\n",
      "Stopped by overfitting detector  (50 iterations wait)\n",
      "\n",
      "bestTest = 0.9772665203\n",
      "bestIteration = 1058\n",
      "\n",
      "Shrink model to first 1059 iterations.\n",
      "0:\tlearn: 1.5989246\ttest: 1.5994125\tbest: 1.5994125 (0)\ttotal: 40ms\tremaining: 1m 19s\n",
      "250:\tlearn: 0.8380135\ttest: 0.9213203\tbest: 0.9213203 (250)\ttotal: 4.07s\tremaining: 28.3s\n",
      "500:\tlearn: 0.7293261\ttest: 0.8543990\tbest: 0.8543990 (500)\ttotal: 8.39s\tremaining: 25.1s\n",
      "750:\tlearn: 0.6743672\ttest: 0.8343545\tbest: 0.8342978 (749)\ttotal: 12.1s\tremaining: 20.2s\n",
      "1000:\tlearn: 0.6291587\ttest: 0.8242888\tbest: 0.8242888 (1000)\ttotal: 15.9s\tremaining: 15.8s\n",
      "1250:\tlearn: 0.5836739\ttest: 0.8171646\tbest: 0.8169889 (1246)\ttotal: 19.3s\tremaining: 11.5s\n",
      "1500:\tlearn: 0.5443498\ttest: 0.8123166\tbest: 0.8123166 (1500)\ttotal: 21.9s\tremaining: 7.29s\n",
      "Stopped by overfitting detector  (50 iterations wait)\n",
      "\n",
      "bestTest = 0.8116823928\n",
      "bestIteration = 1617\n",
      "\n",
      "Shrink model to first 1618 iterations.\n",
      "0:\tlearn: 1.6014289\ttest: 1.6011702\tbest: 1.6011702 (0)\ttotal: 20.7ms\tremaining: 41.3s\n",
      "250:\tlearn: 0.9256838\ttest: 0.9580034\tbest: 0.9580034 (250)\ttotal: 2.19s\tremaining: 15.3s\n",
      "500:\tlearn: 0.8037173\ttest: 0.8837034\tbest: 0.8837034 (500)\ttotal: 4.2s\tremaining: 12.6s\n",
      "750:\tlearn: 0.7441253\ttest: 0.8661328\tbest: 0.8661328 (750)\ttotal: 6.52s\tremaining: 10.8s\n",
      "1000:\tlearn: 0.6921210\ttest: 0.8571217\tbest: 0.8571217 (1000)\ttotal: 8.68s\tremaining: 8.66s\n",
      "1250:\tlearn: 0.6411731\ttest: 0.8537005\tbest: 0.8536422 (1249)\ttotal: 10.9s\tremaining: 6.5s\n",
      "Stopped by overfitting detector  (50 iterations wait)\n",
      "\n",
      "bestTest = 0.853188545\n",
      "bestIteration = 1310\n",
      "\n",
      "Shrink model to first 1311 iterations.\n",
      "0:\tlearn: 1.7810326\ttest: 1.7804248\tbest: 1.7804248 (0)\ttotal: 17.7ms\tremaining: 35.3s\n",
      "250:\tlearn: 0.9387082\ttest: 0.9259442\tbest: 0.9259442 (250)\ttotal: 2.9s\tremaining: 20.2s\n",
      "500:\tlearn: 0.7974953\ttest: 0.8062091\tbest: 0.8062091 (500)\ttotal: 5.57s\tremaining: 16.7s\n",
      "750:\tlearn: 0.7347127\ttest: 0.7704631\tbest: 0.7704631 (750)\ttotal: 8.19s\tremaining: 13.6s\n",
      "1000:\tlearn: 0.6838136\ttest: 0.7550094\tbest: 0.7549868 (999)\ttotal: 10.8s\tremaining: 10.8s\n",
      "1250:\tlearn: 0.6309693\ttest: 0.7474794\tbest: 0.7473885 (1249)\ttotal: 13.3s\tremaining: 7.93s\n",
      "1500:\tlearn: 0.5841264\ttest: 0.7435522\tbest: 0.7432318 (1475)\ttotal: 15.7s\tremaining: 5.23s\n",
      "1750:\tlearn: 0.5443772\ttest: 0.7417298\tbest: 0.7415661 (1737)\ttotal: 18.4s\tremaining: 2.62s\n",
      "Stopped by overfitting detector  (50 iterations wait)\n",
      "\n",
      "bestTest = 0.7398570728\n",
      "bestIteration = 1935\n",
      "\n",
      "Shrink model to first 1936 iterations.\n"
     ]
    },
    {
     "data": {
      "text/plain": "<catboost.core.CatBoostClassifier at 0x7f7939d5ed00>"
     },
     "execution_count": 32,
     "metadata": {},
     "output_type": "execute_result"
    }
   ],
   "source": [
    "model_ada.fit(X_train, y_train_ada, eval_set=(X_test, y_test_ada))\n",
    "model_sys.fit(X_train, y_train_sys, eval_set=(X_test, y_test_sys))\n",
    "model_ana.fit(X_train, y_train_ana, eval_set=(X_test, y_test_ana))\n",
    "model_foc.fit(X_train, y_train_foc, eval_set=(X_test, y_test_foc))"
   ]
  },
  {
   "cell_type": "markdown",
   "metadata": {
    "id": "aqxTaUVm2iiP"
   },
   "source": [
    "## Оценка точности"
   ]
  },
  {
   "cell_type": "code",
   "execution_count": 33,
   "metadata": {
    "id": "aJt5-Okm2h3I"
   },
   "outputs": [],
   "source": [
    "pred_ada = model_ada.predict(X_test)\n",
    "pred_sys = model_sys.predict(X_test)\n",
    "pred_ana = model_ana.predict(X_test)\n",
    "pred_foc = model_foc.predict(X_test)\n",
    "\n",
    "pred = pd.DataFrame(index=X_test.index)\n",
    "pred[\"Adaptability\"] = pred_ada\n",
    "pred[\"Systemic thinking\"] = pred_sys\n",
    "pred[\"Analytical thinking\"] = pred_ana\n",
    "pred[\"Focus\"] = pred_foc"
   ]
  },
  {
   "cell_type": "code",
   "execution_count": 33,
   "metadata": {
    "pycharm": {
     "name": "#%%\n"
    }
   },
   "outputs": [],
   "source": []
  },
  {
   "cell_type": "code",
   "execution_count": 35,
   "metadata": {
    "colab": {
     "base_uri": "https://localhost:8080/"
    },
    "id": "Vz2JrMW32m3N",
    "outputId": "9dc6ef6b-c3e4-46db-b36a-2d3f4459be03"
   },
   "outputs": [
    {
     "name": "stdout",
     "output_type": "stream",
     "text": [
      "Recall score 0.31552117228535\n"
     ]
    }
   ],
   "source": [
    "result = 0 \n",
    "\n",
    "for i, col in enumerate(y_test.columns):\n",
    "    result += recall_score(y_test[col], pred[col], average='macro', zero_division=True)\n",
    "\n",
    "print(\"Recall score\", result/4)"
   ]
  },
  {
   "cell_type": "markdown",
   "metadata": {
    "pycharm": {
     "name": "#%% md\n"
    }
   },
   "source": [
    "##local##-##public##\n",
    "0.30658 - 0.261382\n",
    "0.30897 - 0.258336\n",
    "0.31063 - 0.271379 - ans6\n",
    "0.30201 - 0.263627 - ans7\n",
    "0.31552 - 0.291058 - ans_"
   ]
  },
  {
   "cell_type": "code",
   "execution_count": 35,
   "metadata": {},
   "outputs": [],
   "source": []
  },
  {
   "cell_type": "code",
   "execution_count": 36,
   "metadata": {},
   "outputs": [
    {
     "name": "stdout",
     "output_type": "stream",
     "text": [
      "0:\tlearn: 1.7820186\ttotal: 50ms\tremaining: 1m 39s\n",
      "250:\tlearn: 1.0035945\ttotal: 5.94s\tremaining: 41.4s\n",
      "500:\tlearn: 0.8769046\ttotal: 10.9s\tremaining: 32.5s\n",
      "750:\tlearn: 0.8182380\ttotal: 15.4s\tremaining: 25.5s\n",
      "1000:\tlearn: 0.7720311\ttotal: 20.5s\tremaining: 20.5s\n",
      "1250:\tlearn: 0.7241497\ttotal: 25.3s\tremaining: 15.1s\n",
      "1500:\tlearn: 0.6792788\ttotal: 30.5s\tremaining: 10.1s\n",
      "1750:\tlearn: 0.6415471\ttotal: 35.6s\tremaining: 5.06s\n",
      "1999:\tlearn: 0.6080237\ttotal: 40.6s\tremaining: 0us\n",
      "0:\tlearn: 1.5979709\ttotal: 23.4ms\tremaining: 46.7s\n",
      "250:\tlearn: 0.8533128\ttotal: 5.42s\tremaining: 37.7s\n",
      "500:\tlearn: 0.7486293\ttotal: 10.1s\tremaining: 30.2s\n",
      "750:\tlearn: 0.6987273\ttotal: 15s\tremaining: 24.9s\n",
      "1000:\tlearn: 0.6603219\ttotal: 19.3s\tremaining: 19.2s\n",
      "1250:\tlearn: 0.6220031\ttotal: 24.9s\tremaining: 14.9s\n",
      "1500:\tlearn: 0.5877514\ttotal: 30.5s\tremaining: 10.1s\n",
      "1750:\tlearn: 0.5554261\ttotal: 34.9s\tremaining: 4.97s\n",
      "1999:\tlearn: 0.5278172\ttotal: 39.2s\tremaining: 0us\n",
      "0:\tlearn: 1.6004096\ttotal: 40.4ms\tremaining: 1m 20s\n",
      "250:\tlearn: 0.9222780\ttotal: 4.95s\tremaining: 34.5s\n",
      "500:\tlearn: 0.8108186\ttotal: 8.76s\tremaining: 26.2s\n",
      "750:\tlearn: 0.7574783\ttotal: 12.3s\tremaining: 20.5s\n",
      "1000:\tlearn: 0.7149077\ttotal: 17.1s\tremaining: 17.1s\n",
      "1250:\tlearn: 0.6724487\ttotal: 21.1s\tremaining: 12.6s\n",
      "1500:\tlearn: 0.6325706\ttotal: 24.9s\tremaining: 8.29s\n",
      "1750:\tlearn: 0.5957380\ttotal: 28.9s\tremaining: 4.12s\n",
      "1999:\tlearn: 0.5668033\ttotal: 31.8s\tremaining: 0us\n",
      "0:\tlearn: 1.7803090\ttotal: 22.9ms\tremaining: 45.7s\n",
      "250:\tlearn: 0.9129821\ttotal: 3.35s\tremaining: 23.3s\n",
      "500:\tlearn: 0.7793115\ttotal: 6.48s\tremaining: 19.4s\n",
      "750:\tlearn: 0.7236131\ttotal: 11.2s\tremaining: 18.6s\n",
      "1000:\tlearn: 0.6821508\ttotal: 15.6s\tremaining: 15.6s\n",
      "1250:\tlearn: 0.6400183\ttotal: 20s\tremaining: 12s\n",
      "1500:\tlearn: 0.6022810\ttotal: 23.4s\tremaining: 7.79s\n",
      "1750:\tlearn: 0.5693580\ttotal: 27.1s\tremaining: 3.85s\n",
      "1999:\tlearn: 0.5404917\ttotal: 30.2s\tremaining: 0us\n"
     ]
    },
    {
     "data": {
      "text/plain": "<catboost.core.CatBoostClassifier at 0x7f7939d5eaf0>"
     },
     "execution_count": 36,
     "metadata": {},
     "output_type": "execute_result"
    }
   ],
   "source": [
    "model_ada = CatBoostClassifier(**params)\n",
    "model_sys = CatBoostClassifier(**params)\n",
    "model_ana = CatBoostClassifier(**params)\n",
    "model_foc = CatBoostClassifier(**params)\n",
    "\n",
    "model_ada.fit(X, y[\"Adaptability\"])\n",
    "model_sys.fit(X, y[\"Systemic thinking\"])\n",
    "model_ana.fit(X, y[\"Analytical thinking\"])\n",
    "model_foc.fit(X, y[\"Focus\"])"
   ]
  },
  {
   "cell_type": "code",
   "execution_count": 44,
   "outputs": [],
   "source": [
    "pd.to_pickle(model_ada, \"models/model_ada.pkl\")\n",
    "pd.to_pickle(model_sys, \"models/model_sys.pkl\")\n",
    "pd.to_pickle(model_ana, \"models/model_ana.pkl\")\n",
    "pd.to_pickle(model_foc, \"models/model_foc.pkl\")"
   ],
   "metadata": {
    "collapsed": false,
    "pycharm": {
     "name": "#%%\n"
    }
   }
  },
  {
   "cell_type": "code",
   "execution_count": 28,
   "metadata": {},
   "outputs": [],
   "source": [
    "# FOLDS = 4\n",
    "#\n",
    "# ada_pool = Pool(X, y[\"Adaptability\"])\n",
    "#\n",
    "# scores_ada = cv(ada_pool,\n",
    "#                 params,\n",
    "#                 fold_count=FOLDS, return_models=True)\n",
    "#\n",
    "# sys_pool = Pool(X, y[\"Systemic thinking\"])\n",
    "#\n",
    "# scores_sys = cv(sys_pool,\n",
    "#                 params,\n",
    "#                 fold_count=FOLDS, return_models=True)\n",
    "#\n",
    "# ana_pool = Pool(X, y[\"Analytical thinking\"])\n",
    "#\n",
    "# scores_ana = cv(ana_pool,\n",
    "#                 params,\n",
    "#                 fold_count=FOLDS, return_models=True)\n",
    "#\n",
    "# foc_pool = Pool(X, y[\"Focus\"])\n",
    "#\n",
    "# scores_foc = cv(foc_pool,\n",
    "#                 params,\n",
    "#                 fold_count=FOLDS, return_models=True)"
   ]
  },
  {
   "cell_type": "markdown",
   "metadata": {},
   "source": [
    "### Inference"
   ]
  },
  {
   "cell_type": "code",
   "execution_count": 39,
   "metadata": {
    "pycharm": {
     "name": "#%%\n"
    }
   },
   "outputs": [],
   "source": [
    "test_vec_scores_nans = calc_result()"
   ]
  },
  {
   "cell_type": "code",
   "execution_count": 40,
   "metadata": {},
   "outputs": [],
   "source": [
    "X = test_vec_scores_nans.drop(targets, axis = 1).drop([\"id\", \"user_id\"], axis = 1)\n",
    "y = test_vec_scores_nans[targets]\n",
    "\n",
    "y_test_ada = y[[\"Adaptability\"]]\n",
    "\n",
    "y_test_sys = y[[\"Systemic thinking\"]]\n",
    "\n",
    "y_test_ana = y[[\"Analytical thinking\"]]\n",
    "\n",
    "y_test_foc = y[[\"Focus\"]]"
   ]
  },
  {
   "cell_type": "code",
   "execution_count": 41,
   "metadata": {},
   "outputs": [],
   "source": [
    "pred_ada = model_ada.predict(X)\n",
    "pred_sys = model_sys.predict(X)\n",
    "pred_ana = model_ana.predict(X)\n",
    "pred_foc = model_foc.predict(X)\n",
    "\n"
   ]
  },
  {
   "cell_type": "code",
   "execution_count": 42,
   "metadata": {},
   "outputs": [],
   "source": [
    "ans = get_ans(pred_ada, pred_sys, pred_ana, pred_foc)"
   ]
  },
  {
   "cell_type": "code",
   "execution_count": 43,
   "metadata": {},
   "outputs": [
    {
     "data": {
      "text/plain": "        id  Analytical thinking  Systemic thinking  Adaptability  Focus\n0    10199                  4.0                4.0           4.0    4.0\n1    10539                  4.0                4.0           4.0    4.0\n2    10174                  4.0                4.0           5.0    4.0\n3    10465                  4.0                4.0           4.0    4.0\n4    10066                  4.0                4.0           5.0    4.0\n..     ...                  ...                ...           ...    ...\n288  10433                  4.0                4.0           4.0    4.0\n289  10893                  4.0                4.0           5.0    5.0\n290  10909                  4.0                4.0           4.0    4.0\n291  10889                  4.0                4.0           4.0    4.0\n292  10613                  4.0                4.0           4.0    4.0\n\n[293 rows x 5 columns]",
      "text/html": "<div>\n<style scoped>\n    .dataframe tbody tr th:only-of-type {\n        vertical-align: middle;\n    }\n\n    .dataframe tbody tr th {\n        vertical-align: top;\n    }\n\n    .dataframe thead th {\n        text-align: right;\n    }\n</style>\n<table border=\"1\" class=\"dataframe\">\n  <thead>\n    <tr style=\"text-align: right;\">\n      <th></th>\n      <th>id</th>\n      <th>Analytical thinking</th>\n      <th>Systemic thinking</th>\n      <th>Adaptability</th>\n      <th>Focus</th>\n    </tr>\n  </thead>\n  <tbody>\n    <tr>\n      <th>0</th>\n      <td>10199</td>\n      <td>4.0</td>\n      <td>4.0</td>\n      <td>4.0</td>\n      <td>4.0</td>\n    </tr>\n    <tr>\n      <th>1</th>\n      <td>10539</td>\n      <td>4.0</td>\n      <td>4.0</td>\n      <td>4.0</td>\n      <td>4.0</td>\n    </tr>\n    <tr>\n      <th>2</th>\n      <td>10174</td>\n      <td>4.0</td>\n      <td>4.0</td>\n      <td>5.0</td>\n      <td>4.0</td>\n    </tr>\n    <tr>\n      <th>3</th>\n      <td>10465</td>\n      <td>4.0</td>\n      <td>4.0</td>\n      <td>4.0</td>\n      <td>4.0</td>\n    </tr>\n    <tr>\n      <th>4</th>\n      <td>10066</td>\n      <td>4.0</td>\n      <td>4.0</td>\n      <td>5.0</td>\n      <td>4.0</td>\n    </tr>\n    <tr>\n      <th>...</th>\n      <td>...</td>\n      <td>...</td>\n      <td>...</td>\n      <td>...</td>\n      <td>...</td>\n    </tr>\n    <tr>\n      <th>288</th>\n      <td>10433</td>\n      <td>4.0</td>\n      <td>4.0</td>\n      <td>4.0</td>\n      <td>4.0</td>\n    </tr>\n    <tr>\n      <th>289</th>\n      <td>10893</td>\n      <td>4.0</td>\n      <td>4.0</td>\n      <td>5.0</td>\n      <td>5.0</td>\n    </tr>\n    <tr>\n      <th>290</th>\n      <td>10909</td>\n      <td>4.0</td>\n      <td>4.0</td>\n      <td>4.0</td>\n      <td>4.0</td>\n    </tr>\n    <tr>\n      <th>291</th>\n      <td>10889</td>\n      <td>4.0</td>\n      <td>4.0</td>\n      <td>4.0</td>\n      <td>4.0</td>\n    </tr>\n    <tr>\n      <th>292</th>\n      <td>10613</td>\n      <td>4.0</td>\n      <td>4.0</td>\n      <td>4.0</td>\n      <td>4.0</td>\n    </tr>\n  </tbody>\n</table>\n<p>293 rows × 5 columns</p>\n</div>"
     },
     "execution_count": 43,
     "metadata": {},
     "output_type": "execute_result"
    }
   ],
   "source": [
    "ans"
   ]
  },
  {
   "cell_type": "code",
   "execution_count": null,
   "metadata": {
    "pycharm": {
     "name": "#%%\n"
    }
   },
   "outputs": [],
   "source": []
  },
  {
   "cell_type": "code",
   "execution_count": null,
   "metadata": {
    "pycharm": {
     "name": "#%%\n"
    }
   },
   "outputs": [],
   "source": []
  },
  {
   "cell_type": "code",
   "execution_count": null,
   "outputs": [],
   "source": [],
   "metadata": {
    "collapsed": false,
    "pycharm": {
     "name": "#%%\n"
    }
   }
  },
  {
   "cell_type": "code",
   "execution_count": null,
   "outputs": [],
   "source": [],
   "metadata": {
    "collapsed": false,
    "pycharm": {
     "name": "#%%\n"
    }
   }
  },
  {
   "cell_type": "code",
   "execution_count": null,
   "outputs": [],
   "source": [],
   "metadata": {
    "collapsed": false,
    "pycharm": {
     "name": "#%%\n"
    }
   }
  }
 ],
 "metadata": {
  "colab": {
   "name": "Симуляция_baseline.ipynb",
   "provenance": []
  },
  "kernelspec": {
   "name": "ts_course",
   "language": "python",
   "display_name": "ts_course"
  },
  "language_info": {
   "codemirror_mode": {
    "name": "ipython",
    "version": 3
   },
   "file_extension": ".py",
   "mimetype": "text/x-python",
   "name": "python",
   "nbconvert_exporter": "python",
   "pygments_lexer": "ipython3",
   "version": "3.8.12"
  }
 },
 "nbformat": 4,
 "nbformat_minor": 1
}